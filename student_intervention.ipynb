{
 "cells": [
  {
   "cell_type": "markdown",
   "metadata": {},
   "source": [
    "# Machine Learning Engineer Nanodegree\n",
    "## Supervised Learning\n",
    "## Project: Building a Student Intervention System"
   ]
  },
  {
   "cell_type": "markdown",
   "metadata": {},
   "source": [
    "Welcome to the second project of the Machine Learning Engineer Nanodegree! In this notebook, some template code has already been provided for you, and it will be your job to implement the additional functionality necessary to successfully complete this project. Sections that begin with **'Implementation'** in the header indicate that the following block of code will require additional functionality which you must provide. Instructions will be provided for each section and the specifics of the implementation are marked in the code block with a `'TODO'` statement. Please be sure to read the instructions carefully!\n",
    "\n",
    "In addition to implementing code, there will be questions that you must answer which relate to the project and your implementation. Each section where you will answer a question is preceded by a **'Question X'** header. Carefully read each question and provide thorough answers in the following text boxes that begin with **'Answer:'**. Your project submission will be evaluated based on your answers to each of the questions and the implementation you provide.  \n",
    "\n",
    ">**Note:** Code and Markdown cells can be executed using the **Shift + Enter** keyboard shortcut. In addition, Markdown cells can be edited by typically double-clicking the cell to enter edit mode."
   ]
  },
  {
   "cell_type": "code",
   "execution_count": 1,
   "metadata": {
    "collapsed": true
   },
   "outputs": [],
   "source": [
    "# use this seed for random_state values\n",
    "seed = 1"
   ]
  },
  {
   "cell_type": "code",
   "execution_count": 2,
   "metadata": {
    "collapsed": false
   },
   "outputs": [],
   "source": [
    "# make sure we're using sklearn 0.16\n",
    "import sklearn\n",
    "assert(sklearn.__version__.startswith('0.16'))"
   ]
  },
  {
   "cell_type": "markdown",
   "metadata": {},
   "source": [
    "### Question 1 - Classification vs. Regression\n",
    "*Your goal for this project is to identify students who might need early intervention before they fail to graduate. Which type of supervised learning problem is this, classification or regression? Why?*"
   ]
  },
  {
   "cell_type": "markdown",
   "metadata": {},
   "source": [
    "**Answer: **\n",
    "\n",
    "This is a classification problem, because we want to determine which students need intervention, so will assign each student to one of two classes - \"intervene\" or \"don't intervene\". Regression problems involve predicting a continuous value, e.g. price of a house. "
   ]
  },
  {
   "cell_type": "markdown",
   "metadata": {},
   "source": [
    "## Exploring the Data\n",
    "Run the code cell below to load necessary Python libraries and load the student data. Note that the last column from this dataset, `'passed'`, will be our target label (whether the student graduated or didn't graduate). All other columns are features about each student."
   ]
  },
  {
   "cell_type": "code",
   "execution_count": 3,
   "metadata": {
    "collapsed": true
   },
   "outputs": [],
   "source": [
    "# Import libraries\n",
    "\n",
    "import numpy as np\n",
    "import pandas as pd\n",
    "import matplotlib as mpl\n",
    "import matplotlib.pyplot as plt\n",
    "\n",
    "from sklearn import metrics\n",
    "\n",
    "import time # use time.clock() - more accurate than time.time()"
   ]
  },
  {
   "cell_type": "code",
   "execution_count": 4,
   "metadata": {
    "collapsed": true
   },
   "outputs": [],
   "source": [
    "# allow inline plots\n",
    "%matplotlib inline\n",
    "\n",
    "# set default figure size\n",
    "mpl.rcParams['figure.figsize'] = (13,5)"
   ]
  },
  {
   "cell_type": "code",
   "execution_count": 5,
   "metadata": {
    "collapsed": false
   },
   "outputs": [
    {
     "name": "stdout",
     "output_type": "stream",
     "text": [
      "Student data read successfully!\n"
     ]
    },
    {
     "data": {
      "text/html": [
       "<div>\n",
       "<table border=\"1\" class=\"dataframe\">\n",
       "  <thead>\n",
       "    <tr style=\"text-align: right;\">\n",
       "      <th></th>\n",
       "      <th>school</th>\n",
       "      <th>sex</th>\n",
       "      <th>age</th>\n",
       "      <th>address</th>\n",
       "      <th>famsize</th>\n",
       "      <th>Pstatus</th>\n",
       "      <th>Medu</th>\n",
       "      <th>Fedu</th>\n",
       "      <th>Mjob</th>\n",
       "      <th>Fjob</th>\n",
       "      <th>...</th>\n",
       "      <th>internet</th>\n",
       "      <th>romantic</th>\n",
       "      <th>famrel</th>\n",
       "      <th>freetime</th>\n",
       "      <th>goout</th>\n",
       "      <th>Dalc</th>\n",
       "      <th>Walc</th>\n",
       "      <th>health</th>\n",
       "      <th>absences</th>\n",
       "      <th>passed</th>\n",
       "    </tr>\n",
       "  </thead>\n",
       "  <tbody>\n",
       "    <tr>\n",
       "      <th>345</th>\n",
       "      <td>GP</td>\n",
       "      <td>F</td>\n",
       "      <td>18</td>\n",
       "      <td>U</td>\n",
       "      <td>GT3</td>\n",
       "      <td>T</td>\n",
       "      <td>3</td>\n",
       "      <td>2</td>\n",
       "      <td>other</td>\n",
       "      <td>services</td>\n",
       "      <td>...</td>\n",
       "      <td>yes</td>\n",
       "      <td>yes</td>\n",
       "      <td>5</td>\n",
       "      <td>4</td>\n",
       "      <td>3</td>\n",
       "      <td>2</td>\n",
       "      <td>3</td>\n",
       "      <td>1</td>\n",
       "      <td>7</td>\n",
       "      <td>yes</td>\n",
       "    </tr>\n",
       "    <tr>\n",
       "      <th>168</th>\n",
       "      <td>GP</td>\n",
       "      <td>F</td>\n",
       "      <td>16</td>\n",
       "      <td>U</td>\n",
       "      <td>GT3</td>\n",
       "      <td>T</td>\n",
       "      <td>2</td>\n",
       "      <td>2</td>\n",
       "      <td>other</td>\n",
       "      <td>other</td>\n",
       "      <td>...</td>\n",
       "      <td>yes</td>\n",
       "      <td>no</td>\n",
       "      <td>5</td>\n",
       "      <td>1</td>\n",
       "      <td>5</td>\n",
       "      <td>1</td>\n",
       "      <td>1</td>\n",
       "      <td>4</td>\n",
       "      <td>0</td>\n",
       "      <td>no</td>\n",
       "    </tr>\n",
       "    <tr>\n",
       "      <th>85</th>\n",
       "      <td>GP</td>\n",
       "      <td>F</td>\n",
       "      <td>15</td>\n",
       "      <td>U</td>\n",
       "      <td>GT3</td>\n",
       "      <td>T</td>\n",
       "      <td>4</td>\n",
       "      <td>4</td>\n",
       "      <td>services</td>\n",
       "      <td>services</td>\n",
       "      <td>...</td>\n",
       "      <td>yes</td>\n",
       "      <td>yes</td>\n",
       "      <td>4</td>\n",
       "      <td>4</td>\n",
       "      <td>4</td>\n",
       "      <td>2</td>\n",
       "      <td>3</td>\n",
       "      <td>5</td>\n",
       "      <td>6</td>\n",
       "      <td>no</td>\n",
       "    </tr>\n",
       "    <tr>\n",
       "      <th>22</th>\n",
       "      <td>GP</td>\n",
       "      <td>M</td>\n",
       "      <td>16</td>\n",
       "      <td>U</td>\n",
       "      <td>LE3</td>\n",
       "      <td>T</td>\n",
       "      <td>4</td>\n",
       "      <td>2</td>\n",
       "      <td>teacher</td>\n",
       "      <td>other</td>\n",
       "      <td>...</td>\n",
       "      <td>yes</td>\n",
       "      <td>no</td>\n",
       "      <td>4</td>\n",
       "      <td>5</td>\n",
       "      <td>1</td>\n",
       "      <td>1</td>\n",
       "      <td>3</td>\n",
       "      <td>5</td>\n",
       "      <td>2</td>\n",
       "      <td>yes</td>\n",
       "    </tr>\n",
       "    <tr>\n",
       "      <th>110</th>\n",
       "      <td>GP</td>\n",
       "      <td>M</td>\n",
       "      <td>15</td>\n",
       "      <td>U</td>\n",
       "      <td>LE3</td>\n",
       "      <td>A</td>\n",
       "      <td>4</td>\n",
       "      <td>4</td>\n",
       "      <td>teacher</td>\n",
       "      <td>teacher</td>\n",
       "      <td>...</td>\n",
       "      <td>yes</td>\n",
       "      <td>no</td>\n",
       "      <td>5</td>\n",
       "      <td>5</td>\n",
       "      <td>3</td>\n",
       "      <td>1</td>\n",
       "      <td>1</td>\n",
       "      <td>4</td>\n",
       "      <td>6</td>\n",
       "      <td>yes</td>\n",
       "    </tr>\n",
       "  </tbody>\n",
       "</table>\n",
       "<p>5 rows × 31 columns</p>\n",
       "</div>"
      ],
      "text/plain": [
       "    school sex  age address famsize Pstatus  Medu  Fedu      Mjob      Fjob  \\\n",
       "345     GP   F   18       U     GT3       T     3     2     other  services   \n",
       "168     GP   F   16       U     GT3       T     2     2     other     other   \n",
       "85      GP   F   15       U     GT3       T     4     4  services  services   \n",
       "22      GP   M   16       U     LE3       T     4     2   teacher     other   \n",
       "110     GP   M   15       U     LE3       A     4     4   teacher   teacher   \n",
       "\n",
       "     ...   internet romantic  famrel  freetime  goout Dalc Walc health  \\\n",
       "345  ...        yes      yes       5         4      3    2    3      1   \n",
       "168  ...        yes       no       5         1      5    1    1      4   \n",
       "85   ...        yes      yes       4         4      4    2    3      5   \n",
       "22   ...        yes       no       4         5      1    1    3      5   \n",
       "110  ...        yes       no       5         5      3    1    1      4   \n",
       "\n",
       "    absences passed  \n",
       "345        7    yes  \n",
       "168        0     no  \n",
       "85         6     no  \n",
       "22         2    yes  \n",
       "110        6    yes  \n",
       "\n",
       "[5 rows x 31 columns]"
      ]
     },
     "execution_count": 5,
     "metadata": {},
     "output_type": "execute_result"
    }
   ],
   "source": [
    "# Read student data\n",
    "student_data = pd.read_csv(\"student-data.csv\")\n",
    "print \"Student data read successfully!\"\n",
    "\n",
    "# show some of the data\n",
    "student_data.sample(5)"
   ]
  },
  {
   "cell_type": "markdown",
   "metadata": {},
   "source": [
    "### Examine correlations"
   ]
  },
  {
   "cell_type": "code",
   "execution_count": 6,
   "metadata": {
    "collapsed": false
   },
   "outputs": [],
   "source": [
    "def plotCorrelationMatrix(df):\n",
    "    \"plot correlation matrix of a pandas dataframe to a grid\"\n",
    "    # adapted from http://nbviewer.jupyter.org/gist/joelotz/5427209\n",
    "    corr = df.corr() # get correlation matrix\n",
    "    names = corr.columns\n",
    "    plt.figure(figsize=(3,3))\n",
    "    ax = plt.axes()\n",
    "    ax.set_yticks(np.arange(corr.shape[0])+0.5, minor=False)\n",
    "    ax.set_xticks(np.arange(corr.shape[1])+0.5, minor=False)\n",
    "    ax.invert_yaxis()\n",
    "    ax.xaxis.tick_top() \n",
    "    ax.set_xticklabels(names,minor=False)\n",
    "    ax.set_yticklabels(names,minor=False)\n",
    "    ax.xaxis.set_ticks_position('none')\n",
    "    ax.yaxis.set_ticks_position('none')\n",
    "    plt.xticks(rotation=90)\n",
    "    ax.grid(False)\n",
    "    plt.pcolor(corr,cmap=mpl.cm.Greys);"
   ]
  },
  {
   "cell_type": "code",
   "execution_count": 7,
   "metadata": {
    "collapsed": false
   },
   "outputs": [
    {
     "data": {
      "image/png": "[encoded data removed]",
      "text/plain": [
       "<matplotlib.figure.Figure at 0x6359828>"
      ]
     },
     "metadata": {},
     "output_type": "display_data"
    }
   ],
   "source": [
    "plotCorrelationMatrix(student_data)"
   ]
  },
  {
   "cell_type": "code",
   "execution_count": 8,
   "metadata": {
    "collapsed": true
   },
   "outputs": [],
   "source": [
    "# this shows how correlated some of the features are,\n",
    "# which is supposed to be a problem for naive bayes.\n",
    "\n",
    "# e.g. mothers and fathers education are correlated, \n",
    "# and studytime and alcohol consumption are inversely correlated, etc"
   ]
  },
  {
   "cell_type": "markdown",
   "metadata": {},
   "source": [
    "### Implementation: Data Exploration\n",
    "Let's begin by investigating the dataset to determine how many students we have information on, and learn about the graduation rate among these students. In the code cell below, you will need to compute the following:\n",
    "- The total number of students, `n_students`.\n",
    "- The total number of features for each student, `n_features`.\n",
    "- The number of those students who passed, `n_passed`.\n",
    "- The number of those students who failed, `n_failed`.\n",
    "- The graduation rate of the class, `grad_rate`, in percent (%).\n"
   ]
  },
  {
   "cell_type": "code",
   "execution_count": 9,
   "metadata": {
    "collapsed": false
   },
   "outputs": [
    {
     "name": "stdout",
     "output_type": "stream",
     "text": [
      "Total number of students: 395\n",
      "Number of features: 30\n",
      "Number of students who passed: 265\n",
      "Number of students who failed: 130\n",
      "Graduation rate of the class: 67.09%\n"
     ]
    }
   ],
   "source": [
    "# TODO: Calculate number of students\n",
    "n_students = len(student_data)\n",
    "\n",
    "# TODO: Calculate number of features\n",
    "n_features = len(student_data.columns) - 1\n",
    "\n",
    "# TODO: Calculate passing students\n",
    "n_passed = len(student_data[student_data['passed']=='yes'])\n",
    "\n",
    "# TODO: Calculate failing students\n",
    "n_failed = len(student_data[student_data['passed']=='no'])\n",
    "\n",
    "# TODO: Calculate graduation rate\n",
    "grad_rate = float(n_passed) / n_students * 100\n",
    "\n",
    "# Print the results\n",
    "print \"Total number of students: {}\".format(n_students)\n",
    "print \"Number of features: {}\".format(n_features)\n",
    "print \"Number of students who passed: {}\".format(n_passed)\n",
    "print \"Number of students who failed: {}\".format(n_failed)\n",
    "print \"Graduation rate of the class: {:.2f}%\".format(grad_rate)"
   ]
  },
  {
   "cell_type": "markdown",
   "metadata": {},
   "source": [
    "## Preparing the Data\n",
    "In this section, we will prepare the data for modeling, training and testing.\n",
    "\n",
    "### Identify feature and target columns\n",
    "It is often the case that the data you obtain contains non-numeric features. This can be a problem, as most machine learning algorithms expect numeric data to perform computations with.\n",
    "\n",
    "Run the code cell below to separate the student data into feature and target columns to see if any features are non-numeric."
   ]
  },
  {
   "cell_type": "code",
   "execution_count": 10,
   "metadata": {
    "collapsed": false
   },
   "outputs": [
    {
     "name": "stdout",
     "output_type": "stream",
     "text": [
      "Feature columns:\n",
      "['school', 'sex', 'age', 'address', 'famsize', 'Pstatus', 'Medu', 'Fedu', 'Mjob', 'Fjob', 'reason', 'guardian', 'traveltime', 'studytime', 'failures', 'schoolsup', 'famsup', 'paid', 'activities', 'nursery', 'higher', 'internet', 'romantic', 'famrel', 'freetime', 'goout', 'Dalc', 'Walc', 'health', 'absences']\n",
      "\n",
      "Target column: passed\n",
      "\n",
      "Feature values:\n"
     ]
    },
    {
     "data": {
      "text/html": [
       "<div>\n",
       "<table border=\"1\" class=\"dataframe\">\n",
       "  <thead>\n",
       "    <tr style=\"text-align: right;\">\n",
       "      <th></th>\n",
       "      <th>school</th>\n",
       "      <th>sex</th>\n",
       "      <th>age</th>\n",
       "      <th>address</th>\n",
       "      <th>famsize</th>\n",
       "      <th>Pstatus</th>\n",
       "      <th>Medu</th>\n",
       "      <th>Fedu</th>\n",
       "      <th>Mjob</th>\n",
       "      <th>Fjob</th>\n",
       "      <th>...</th>\n",
       "      <th>higher</th>\n",
       "      <th>internet</th>\n",
       "      <th>romantic</th>\n",
       "      <th>famrel</th>\n",
       "      <th>freetime</th>\n",
       "      <th>goout</th>\n",
       "      <th>Dalc</th>\n",
       "      <th>Walc</th>\n",
       "      <th>health</th>\n",
       "      <th>absences</th>\n",
       "    </tr>\n",
       "  </thead>\n",
       "  <tbody>\n",
       "    <tr>\n",
       "      <th>0</th>\n",
       "      <td>GP</td>\n",
       "      <td>F</td>\n",
       "      <td>18</td>\n",
       "      <td>U</td>\n",
       "      <td>GT3</td>\n",
       "      <td>A</td>\n",
       "      <td>4</td>\n",
       "      <td>4</td>\n",
       "      <td>at_home</td>\n",
       "      <td>teacher</td>\n",
       "      <td>...</td>\n",
       "      <td>yes</td>\n",
       "      <td>no</td>\n",
       "      <td>no</td>\n",
       "      <td>4</td>\n",
       "      <td>3</td>\n",
       "      <td>4</td>\n",
       "      <td>1</td>\n",
       "      <td>1</td>\n",
       "      <td>3</td>\n",
       "      <td>6</td>\n",
       "    </tr>\n",
       "    <tr>\n",
       "      <th>1</th>\n",
       "      <td>GP</td>\n",
       "      <td>F</td>\n",
       "      <td>17</td>\n",
       "      <td>U</td>\n",
       "      <td>GT3</td>\n",
       "      <td>T</td>\n",
       "      <td>1</td>\n",
       "      <td>1</td>\n",
       "      <td>at_home</td>\n",
       "      <td>other</td>\n",
       "      <td>...</td>\n",
       "      <td>yes</td>\n",
       "      <td>yes</td>\n",
       "      <td>no</td>\n",
       "      <td>5</td>\n",
       "      <td>3</td>\n",
       "      <td>3</td>\n",
       "      <td>1</td>\n",
       "      <td>1</td>\n",
       "      <td>3</td>\n",
       "      <td>4</td>\n",
       "    </tr>\n",
       "    <tr>\n",
       "      <th>2</th>\n",
       "      <td>GP</td>\n",
       "      <td>F</td>\n",
       "      <td>15</td>\n",
       "      <td>U</td>\n",
       "      <td>LE3</td>\n",
       "      <td>T</td>\n",
       "      <td>1</td>\n",
       "      <td>1</td>\n",
       "      <td>at_home</td>\n",
       "      <td>other</td>\n",
       "      <td>...</td>\n",
       "      <td>yes</td>\n",
       "      <td>yes</td>\n",
       "      <td>no</td>\n",
       "      <td>4</td>\n",
       "      <td>3</td>\n",
       "      <td>2</td>\n",
       "      <td>2</td>\n",
       "      <td>3</td>\n",
       "      <td>3</td>\n",
       "      <td>10</td>\n",
       "    </tr>\n",
       "    <tr>\n",
       "      <th>3</th>\n",
       "      <td>GP</td>\n",
       "      <td>F</td>\n",
       "      <td>15</td>\n",
       "      <td>U</td>\n",
       "      <td>GT3</td>\n",
       "      <td>T</td>\n",
       "      <td>4</td>\n",
       "      <td>2</td>\n",
       "      <td>health</td>\n",
       "      <td>services</td>\n",
       "      <td>...</td>\n",
       "      <td>yes</td>\n",
       "      <td>yes</td>\n",
       "      <td>yes</td>\n",
       "      <td>3</td>\n",
       "      <td>2</td>\n",
       "      <td>2</td>\n",
       "      <td>1</td>\n",
       "      <td>1</td>\n",
       "      <td>5</td>\n",
       "      <td>2</td>\n",
       "    </tr>\n",
       "    <tr>\n",
       "      <th>4</th>\n",
       "      <td>GP</td>\n",
       "      <td>F</td>\n",
       "      <td>16</td>\n",
       "      <td>U</td>\n",
       "      <td>GT3</td>\n",
       "      <td>T</td>\n",
       "      <td>3</td>\n",
       "      <td>3</td>\n",
       "      <td>other</td>\n",
       "      <td>other</td>\n",
       "      <td>...</td>\n",
       "      <td>yes</td>\n",
       "      <td>no</td>\n",
       "      <td>no</td>\n",
       "      <td>4</td>\n",
       "      <td>3</td>\n",
       "      <td>2</td>\n",
       "      <td>1</td>\n",
       "      <td>2</td>\n",
       "      <td>5</td>\n",
       "      <td>4</td>\n",
       "    </tr>\n",
       "  </tbody>\n",
       "</table>\n",
       "<p>5 rows × 30 columns</p>\n",
       "</div>"
      ],
      "text/plain": [
       "  school sex  age address famsize Pstatus  Medu  Fedu     Mjob      Fjob  \\\n",
       "0     GP   F   18       U     GT3       A     4     4  at_home   teacher   \n",
       "1     GP   F   17       U     GT3       T     1     1  at_home     other   \n",
       "2     GP   F   15       U     LE3       T     1     1  at_home     other   \n",
       "3     GP   F   15       U     GT3       T     4     2   health  services   \n",
       "4     GP   F   16       U     GT3       T     3     3    other     other   \n",
       "\n",
       "    ...    higher internet  romantic  famrel  freetime goout Dalc Walc health  \\\n",
       "0   ...       yes       no        no       4         3     4    1    1      3   \n",
       "1   ...       yes      yes        no       5         3     3    1    1      3   \n",
       "2   ...       yes      yes        no       4         3     2    2    3      3   \n",
       "3   ...       yes      yes       yes       3         2     2    1    1      5   \n",
       "4   ...       yes       no        no       4         3     2    1    2      5   \n",
       "\n",
       "  absences  \n",
       "0        6  \n",
       "1        4  \n",
       "2       10  \n",
       "3        2  \n",
       "4        4  \n",
       "\n",
       "[5 rows x 30 columns]"
      ]
     },
     "execution_count": 10,
     "metadata": {},
     "output_type": "execute_result"
    }
   ],
   "source": [
    "# Extract feature columns\n",
    "feature_cols = list(student_data.columns[:-1])\n",
    "\n",
    "# Extract target column 'passed'\n",
    "target_col = student_data.columns[-1] \n",
    "\n",
    "# Show the list of columns\n",
    "print \"Feature columns:\\n{}\".format(feature_cols)\n",
    "print \"\\nTarget column: {}\".format(target_col)\n",
    "\n",
    "# Separate the data into feature data and target data (X_raw and y_raw, respectively)\n",
    "X_raw = student_data[feature_cols]\n",
    "y_raw = student_data[target_col]\n",
    "\n",
    "# Show the feature information by printing the first five rows\n",
    "print \"\\nFeature values:\"\n",
    "X_raw.head()"
   ]
  },
  {
   "cell_type": "markdown",
   "metadata": {},
   "source": [
    "### Preprocess Feature Columns\n",
    "\n",
    "As you can see, there are several non-numeric columns that need to be converted! Many of them are simply `yes`/`no`, e.g. `internet`. These can be reasonably converted into `1`/`0` (binary) values.\n",
    "\n",
    "Other columns, like `Mjob` and `Fjob`, have more than two values, and are known as _categorical variables_. The recommended way to handle such a column is to create as many columns as possible values (e.g. `Fjob_teacher`, `Fjob_other`, `Fjob_services`, etc.), and assign a `1` to one of them and `0` to all others.\n",
    "\n",
    "These generated columns are sometimes called _dummy variables_, and we will use the [`pandas.get_dummies()`](http://pandas.pydata.org/pandas-docs/stable/generated/pandas.get_dummies.html?highlight=get_dummies#pandas.get_dummies) function to perform this transformation. Run the code cell below to perform the preprocessing routine discussed in this section."
   ]
  },
  {
   "cell_type": "code",
   "execution_count": 11,
   "metadata": {
    "collapsed": true
   },
   "outputs": [],
   "source": [
    "from sklearn.preprocessing import LabelEncoder\n",
    "le = LabelEncoder()\n",
    "\n",
    "def preprocess_features(X):\n",
    "    ''' Preprocesses the student data and converts non-numeric binary variables into\n",
    "        binary (0/1) variables. Converts categorical variables into dummy variables. '''\n",
    "    \n",
    "    # Initialize new output DataFrame\n",
    "    output = pd.DataFrame(index = X.index)\n",
    "\n",
    "    # Investigate each feature column for the data\n",
    "    for col, col_data in X.iteritems():\n",
    "        \n",
    "        # If data type is non-numeric, replace all yes/no values with 1/0\n",
    "        if col_data.dtype == object:\n",
    "            col_data = col_data.replace(['yes', 'no'], [1, 0])\n",
    "\n",
    "        # If data type is categorical, and has more than 2 values, convert to dummy variables\n",
    "        if col_data.dtype == object:\n",
    "            unique_values = col_data.unique()\n",
    "            if len(unique_values)>2:\n",
    "                # if more than 2 values, convert column to dummy variable columns\n",
    "                col_data = pd.get_dummies(col_data, prefix = col)\n",
    "            else:\n",
    "                # if just one or two values, convert to 0 or 1 using LabelEncoder\n",
    "                # see http://scikit-learn.org/stable/modules/generated/sklearn.preprocessing.LabelEncoder.html\n",
    "                le.fit(col_data)\n",
    "                col_data = pd.Series(le.transform(col_data), name=col_data.name)\n",
    "        \n",
    "        # Collect the revised columns\n",
    "        output = output.join(col_data)\n",
    "        \n",
    "    return output"
   ]
  },
  {
   "cell_type": "code",
   "execution_count": 12,
   "metadata": {
    "collapsed": true
   },
   "outputs": [],
   "source": [
    "# process features and labels\n",
    "X_all = preprocess_features(X_raw)\n",
    "y_all = y_raw.replace(['yes','no'],[1, 0]) # convert yes/no to 1/0 so can get average f1 scores\n",
    "\n",
    "# this works but splits out binary category features (aside from yes/no features), \n",
    "# which are better left as one feature.\n",
    "# from https://discussions.udacity.com/t/preprocess-feature-columns/42404\n",
    "#X_all = X_raw.apply(lambda x: x.replace(['yes', 'no'], [1, 0]) ,1)\n",
    "#X_all = pd.get_dummies(X_raw)\n",
    "\n",
    "# did this so could plot full correlation matrix but didn't show \n",
    "# any interesting correlations with 'passed' column.\n",
    "#student_data2 = preprocess_features(student_data)\n",
    "#X_all = student_data2.ix[:,:-1]\n",
    "#y_all = student_data2.ix[:,-1:]"
   ]
  },
  {
   "cell_type": "markdown",
   "metadata": {},
   "source": [
    "**Note:** I changed the above function so the binary features remained a single feature, e.g. school, instead of making two dummy columns. "
   ]
  },
  {
   "cell_type": "code",
   "execution_count": 13,
   "metadata": {
    "collapsed": false
   },
   "outputs": [
    {
     "name": "stdout",
     "output_type": "stream",
     "text": [
      "Processed feature columns (43 total features):\n",
      "['school', 'sex', 'age', 'address', 'famsize', 'Pstatus', 'Medu', 'Fedu', 'Mjob_at_home', 'Mjob_health', 'Mjob_other', 'Mjob_services', 'Mjob_teacher', 'Fjob_at_home', 'Fjob_health', 'Fjob_other', 'Fjob_services', 'Fjob_teacher', 'reason_course', 'reason_home', 'reason_other', 'reason_reputation', 'guardian_father', 'guardian_mother', 'guardian_other', 'traveltime', 'studytime', 'failures', 'schoolsup', 'famsup', 'paid', 'activities', 'nursery', 'higher', 'internet', 'romantic', 'famrel', 'freetime', 'goout', 'Dalc', 'Walc', 'health', 'absences']\n"
     ]
    }
   ],
   "source": [
    "print \"Processed feature columns ({} total features):\\n{}\".format(len(X_all.columns), list(X_all.columns))"
   ]
  },
  {
   "cell_type": "markdown",
   "metadata": {},
   "source": [
    "### Implementation: Training and Testing Data Split\n",
    "So far, we have converted all _categorical_ features into numeric values. For the next step, we split the data (both features and corresponding labels) into training and test sets. In the following code cell below, you will need to implement the following:\n",
    "- Randomly shuffle and split the data (`X_all`, `y_all`) into training and testing subsets.\n",
    "  - Use 300 training points (approximately 75%) and 95 testing points (approximately 25%).\n",
    "  - Set a `random_state` for the function(s) you use, if provided.\n",
    "  - Store the results in `X_train`, `X_test`, `y_train`, and `y_test`."
   ]
  },
  {
   "cell_type": "code",
   "execution_count": 14,
   "metadata": {
    "collapsed": false
   },
   "outputs": [
    {
     "name": "stdout",
     "output_type": "stream",
     "text": [
      "Training set has 300 samples.\n",
      "Testing set has 95 samples.\n"
     ]
    }
   ],
   "source": [
    "# TODO: Import any additional functionality you may need here\n",
    "from sklearn.cross_validation import train_test_split\n",
    "\n",
    "# TODO: Set the number of training points\n",
    "num_train = 300\n",
    "\n",
    "# Set the number of testing points\n",
    "num_test = X_all.shape[0] - num_train # 395-300=95\n",
    "\n",
    "# TODO: Shuffle and split the dataset into the number of training and testing points above\n",
    "X_train, X_test, y_train, y_test = train_test_split(X_all, y_all, \n",
    "                                                    train_size = num_train, \n",
    "                                                    test_size = num_test, \n",
    "                                                    random_state = seed)\n",
    "\n",
    "# Show the results of the split\n",
    "print \"Training set has {} samples.\".format(X_train.shape[0])\n",
    "print \"Testing set has {} samples.\".format(X_test.shape[0])"
   ]
  },
  {
   "cell_type": "code",
   "execution_count": 15,
   "metadata": {
    "collapsed": false
   },
   "outputs": [],
   "source": [
    "# define training set sizes\n",
    "training_set_sizes = [100,200,300]\n",
    "\n",
    "# get training sets\n",
    "X_training_sets = [X_train[:size] for size in training_set_sizes]\n",
    "y_training_sets = [y_train[:size] for size in training_set_sizes]"
   ]
  },
  {
   "cell_type": "code",
   "execution_count": 16,
   "metadata": {
    "collapsed": false
   },
   "outputs": [],
   "source": [
    "# standardize the features -\n",
    "# this subtracts the mean and divides by the standard deviation for each column.\n",
    "# most learning algorithms apparently do better with standardized values.\n",
    "\n",
    "# save this for later, or include in a Pipeline\n",
    "\n",
    "#from sklearn.preprocessing import StandardScaler\n",
    "\n",
    "#stdsc = StandardScaler()\n",
    "#stdsc.fit(X_train)\n",
    "#X_train_std = stdsc.transform(X_train)\n",
    "#X_test_std = stdsc.transform(X_test)"
   ]
  },
  {
   "cell_type": "markdown",
   "metadata": {},
   "source": [
    "## Training and Evaluating Models\n",
    "In this section, you will choose 3 supervised learning models that are appropriate for this problem and available in `scikit-learn`. You will first discuss the reasoning behind choosing these three models by considering what you know about the data and each model's strengths and weaknesses. You will then fit the model to varying sizes of training data (100 data points, 200 data points, and 300 data points) and measure the F<sub>1</sub> score. You will need to produce three tables (one for each model) that shows the training set size, training time, prediction time, F<sub>1</sub> score on the training set, and F<sub>1</sub> score on the testing set.\n",
    "\n",
    "**The following supervised learning models are currently available in** [`scikit-learn`](http://scikit-learn.org/stable/supervised_learning.html) **that you may choose from:**\n",
    "- Gaussian Naive Bayes (GaussianNB)\n",
    "- Decision Trees\n",
    "- Ensemble Methods (Bagging, AdaBoost, Random Forest, Gradient Boosting)\n",
    "- K-Nearest Neighbors (KNeighbors)\n",
    "- Stochastic Gradient Descent (SGDC)\n",
    "- Support Vector Machines (SVM)\n",
    "- Logistic Regression"
   ]
  },
  {
   "cell_type": "markdown",
   "metadata": {},
   "source": [
    "### Question 2 - Model Application\n",
    "*List three supervised learning models that are appropriate for this problem. For each model chosen*\n",
    "- Describe one real-world application in industry where the model can be applied. *(You may need to do a small bit of research for this — give references!)* \n",
    "- What are the strengths of the model; when does it perform well? \n",
    "- What are the weaknesses of the model; when does it perform poorly?\n",
    "- What makes this model a good candidate for the problem, given what you know about the data?"
   ]
  },
  {
   "cell_type": "markdown",
   "metadata": {},
   "source": [
    "**Answer: **\n",
    "\n",
    "Some algorithms that might be appropriate for this problem include **Naive Bayes**, **Logistic Regression**, and **Support Vector Machines**. \n",
    "\n",
    "It's hard to come across good guidance on which algorithm to use when - on Quora and elsewhere there is sometimes contradictory advice - though there have been some studies done comparing their performance - e.g. see [0], in which Random Forests come out on top. \n",
    "\n",
    "[0] Manuel Fernandez-Delgado, Eva Cernadas, Senn Barro, Dinani Amorim, \"Do we Need Hundreds of Classifiers to Solve Real World Classification Problems?\", Journal of Machine Learning Research, 15(Oct):3133-3181, 2014. http://www.jmlr.org/papers/v15/delgado14a.html  "
   ]
  },
  {
   "cell_type": "markdown",
   "metadata": {},
   "source": [
    "**Naive Bayes (NB)**\n",
    "\n",
    "Naive Bayes is often used in text classification, e.g. spam detection [1].\n",
    "\n",
    "Naive Bayes is a simple method and can be quite fast for training and predicting compared to more complex methods [2] - it also doesn't need as much data as other classifiers and is less prone to overfitting [3]. It performs well when features are independent of each other, but in some cases is still able to work well with collinearity, e.g. text classification, and is able to handle many features, e.g. thousands as in text classification. It scales well to huge datasets (millions of instances) [4], and is also able to fit quadratic piece-wise decision boundaries [5]. It has a closed form solution so doesn't require iteration to solve. \n",
    "\n",
    "Its weaknesses are in the independence requirement - it can perform poorly when there is collinearity between the features - highly correlated features are voted twice in the model and can lead to over-inflated importance [6]. \n",
    "\n",
    "It would be a good algorithm to try for this problem because it doesn't require much data, which is an issue in this case, and needs little in the way of computational resources. \n",
    "\n",
    "[1] Zhang, Haiyi, and Di Li. \"Naive Bayes text classifier.\" Granular Computing, 2007. GRC 2007. IEEE International Conference on. IEEE, 2007. http://ieeexplore.ieee.org/document/4403192/  \n",
    "[2] http://scikit-learn.org/stable/modules/naive_bayes.html  \n",
    "[3] http://blog.echen.me/2011/04/27/choosing-a-machine-learning-classifier/  \n",
    "[4] https://www.quora.com/What-are-the-typical-use-cases-for-different-machine-learning-algorithms/answer/Yuval-Feinstein?srid=Huzq  \n",
    "[5] https://www.quora.com/What-is-the-decision-boundary-for-Naive-Bayes/answer/Sebastian-Raschka-1?srid=Huzq  \n",
    "[6] https://www.analyticsvidhya.com/blog/2015/09/naive-bayes-explained/  "
   ]
  },
  {
   "cell_type": "markdown",
   "metadata": {},
   "source": [
    "**Logistic Regression**\n",
    "\n",
    "Logistic Regression is widely used in the health and medical fields, e.g. in assessing different cardiac arrest interventions [1].\n",
    "\n",
    "It has the advantage that it is easy to see how much the different features contribute to the outcome, and does not require its input features to be scaled [2]. It's also relatively fast to train and to predict, and can perform well with a small amount of observations [3]. It uses gradient descent to find a solution. \n",
    "\n",
    "It only finds a single linear decision boundary though, so might not perform well if the decision boundary is irregular. [4]\n",
    "\n",
    "Logistic Regression would be a good algorithm to try for this problem because its computational resource needs are modest, and it would also give the probability a student might pass - if educational resources are limited the teachers could focus more on the ones more likely to pass. \n",
    "\n",
    "[1] Terence D. Valenzuela, Denise J. Roe, Shan Cretin, Daniel W. Spaite and Mary P. Larsen, \"Estimating Effectiveness of Cardiac Arrest Interventions: A Logistic Regression Survival Model\". Circulation. November 18, 1997, Volume 96, Issue 10. http://circ.ahajournals.org/content/96/10/3308.short  \n",
    "[2] http://www.dataschool.io/guide-to-logistic-regression/  \n",
    "[3] http://nbviewer.jupyter.org/github/justmarkham/DAT8/blob/master/notebooks/12_logistic_regression.ipynb  \n",
    "[4] https://florianhartl.com/logistic-regression-geometric-intuition.html  "
   ]
  },
  {
   "cell_type": "markdown",
   "metadata": {},
   "source": [
    "**Support Vector Machine (SVM)**\n",
    "\n",
    "Support Vector Machines are used in many different fields, for instance in the oil and gas industry to predict where oil might be found [1].\n",
    "\n",
    "SVMs are good at handling high dimensional data, and are able to find linear or nonlinear decision boundaries. They use a subset of the training points in the decision function so are memory efficient [2].\n",
    "\n",
    "They are slow to train relative to other algorithms, though - they are more than quadratic in the number of sample points - so don't scale well to very large datasets [3].\n",
    "\n",
    "An SVM would be a good candidate for this problem because the dataset is small, hence the computing resources wouldn't be too heavy, and a nonlinear decision boundary could be found to separate the classes, so it might be more accurate than logistic regression. \n",
    "\n",
    "[1] Yuri Ccoicca, \"Applications of Support Vector Machines in the Exploratory Phase of Petroleum and Natural Gas: a Survey\", International Journal of Engineering and Technology, 2 (2) (2013) 113-125. https://www.researchgate.net/publication/243190076  \n",
    "[2] http://scikit-learn.org/stable/modules/svm.html  \n",
    "[3] http://scikit-learn.org/stable/modules/generated/sklearn.svm.SVC.html#sklearn.svm.SVC  "
   ]
  },
  {
   "cell_type": "markdown",
   "metadata": {},
   "source": [
    "**Baseline**\n",
    "\n",
    "The three models will also be compared against a baseline model which just outputs the most likely label, i.e. it predicts that every student will pass. "
   ]
  },
  {
   "cell_type": "markdown",
   "metadata": {},
   "source": [
    "## Implementation: Model Performance Metrics\n",
    "\n",
    "With the predefined functions above, you will now import the three supervised learning models of your choice and run the `train_predict` function for each one. Remember that you will need to train and predict on each classifier for three different training set sizes: 100, 200, and 300. Hence, you should expect to have 9 different outputs below — 3 for each model using the varying training set sizes. In the following code cell, you will need to implement the following:\n",
    "- Import the three supervised learning models you've discussed in the previous section.\n",
    "- Initialize the three models and store them in `clf_A`, `clf_B`, and `clf_C`.\n",
    " - Use a `random_state` for each model you use, if provided.\n",
    " - **Note:** Use the default settings for each model — you will tune one specific model in a later section.\n",
    "- Create the different training set sizes to be used to train each model.\n",
    " - *Do not reshuffle and resplit the data! The new training points should be drawn from `X_train` and `y_train`.*\n",
    "- Fit each model with each training set size and make predictions on the test set (9 in total).  \n",
    "**Note:** Three tables are provided after the following code cell which can be used to store \n",
    "your results."
   ]
  },
  {
   "cell_type": "code",
   "execution_count": 17,
   "metadata": {
    "collapsed": false
   },
   "outputs": [],
   "source": [
    "# import classifiers\n",
    "from sklearn.dummy          import DummyClassifier\n",
    "from sklearn.naive_bayes    import GaussianNB\n",
    "from sklearn.linear_model   import LogisticRegression\n",
    "from sklearn.svm            import SVC\n",
    "\n",
    "# create classifiers\n",
    "classifiers = [\n",
    "    ['Baseline',               DummyClassifier(strategy='most_frequent')], # eg assume all students will pass\n",
    "    ['Gaussian Naive Bayes',   GaussianNB()], # no random_state\n",
    "    ['Logistic Regression',    LogisticRegression(random_state=seed)],\n",
    "    ['SVM',                    SVC(random_state=seed,kernel='rbf')],\n",
    "]"
   ]
  },
  {
   "cell_type": "code",
   "execution_count": 18,
   "metadata": {
    "collapsed": true
   },
   "outputs": [],
   "source": [
    "# define some helper functions\n",
    "\n",
    "def train_classifier(clf, features, labels):\n",
    "    \"Train the classifier with features and labels, return time spent\"\n",
    "    start = time.clock()\n",
    "    clf.fit(features, labels)\n",
    "    time_spent = time.clock() - start\n",
    "    return time_spent\n",
    "\n",
    "def predict_labels(clf, features, labels_actual, average='binary'):\n",
    "    \"Predict labels for given features, compare with actual labels and return f1 score and time spent\"\n",
    "    start = time.clock()\n",
    "    labels_predict = clf.predict(features)\n",
    "    time_spent = time.clock() - start\n",
    "    #f1 = metrics.f1_score(labels_actual, labels_predict, average=average) # v0.18\n",
    "    pos_label = 1 if average=='binary' else None # need this for v0.16\n",
    "    f1 = metrics.f1_score(labels_actual, labels_predict, average=average, pos_label=pos_label)\n",
    "\n",
    "    #print metrics.confusion_matrix(labels_actual, labels_predict)\n",
    "    #print metrics.classification_report(labels_actual, labels_predict)\n",
    "        \n",
    "    return f1, time_spent"
   ]
  },
  {
   "cell_type": "markdown",
   "metadata": {
    "collapsed": false
   },
   "source": [
    "**Note:** The dataset is unbalanced (67% passing) so will use **StratifiedShuffleSplit** below, which shuffles the data and picks subsets to retain the same proportion of passing instances.\n",
    "\n",
    "Also, since the dataset is so small there's lots of variance in the outcomes - changing the random_state can result in significant changes, so will do cross-fold validation instead of just one test-train split, and average the results. "
   ]
  },
  {
   "cell_type": "code",
   "execution_count": 19,
   "metadata": {
    "collapsed": false,
    "scrolled": true
   },
   "outputs": [],
   "source": [
    "# train and test each classifier with different training sets, and store results in a list.\n",
    "#from sklearn.model_selection import StratifiedShuffleSplit # v0.18\n",
    "from sklearn.cross_validation import StratifiedShuffleSplit # v0.16\n",
    "\n",
    "num_trains = [50,100,150,200,250,300] # training set size\n",
    "num_test   = 95 # testing set size\n",
    "num_trials = 10 # number of times to shuffle data and run each classifier\n",
    "\n",
    "columns = ['Classifier','Training Set Size','Training Time (s)','Prediction Time (test) (s)',\n",
    "           'F1 Score (train)', 'F1 Score (test)']\n",
    "rows = []\n",
    "for classifier_name, clf in classifiers:\n",
    "    for num_train in num_trains:\n",
    "        \n",
    "        # each classifier should get the same sequence of random states,\n",
    "        # so they train on the same subsets\n",
    "        random_state = (seed+1) * num_train\n",
    "        #sss = StratifiedShuffleSplit(n_splits=num_trials, train_size=num_train, test_size=num_test, \n",
    "        #                             random_state=random_state) # v0.18\n",
    "        sss = StratifiedShuffleSplit(y_all, n_iter=num_trials, train_size=num_train, test_size=num_test, \n",
    "                                     random_state=random_state) # v0.16\n",
    "\n",
    "        # shuffle the data, then split it into trial and test groups, keeping\n",
    "        # the number of positive and negative labels proportional to the original group. \n",
    "        #for train_index, test_index in sss.split(X_all, y_all): # v0.18\n",
    "        for train_index, test_index in sss: # v0.16\n",
    "            X_train_subset, X_test_subset = X_all.values[train_index,:], X_all.values[test_index,:]\n",
    "            y_train_subset, y_test_subset = y_all.values[train_index], y_all.values[test_index]\n",
    "\n",
    "            # train classifier\n",
    "            training_time = train_classifier(clf, X_train_subset, y_train_subset)\n",
    "\n",
    "            # predict labels\n",
    "            f1_train, prediction_time_train = predict_labels(clf, X_train_subset, y_train_subset)\n",
    "            f1_test,  prediction_time_test  = predict_labels(clf, X_test_subset, y_test_subset)\n",
    "\n",
    "            # add row of data to results\n",
    "            num_train = len(X_train_subset)\n",
    "            row = [classifier_name, num_train, training_time, prediction_time_test, f1_train, f1_test]\n",
    "            rows.append(row)\n",
    "            \n",
    "# create pandas table with results\n",
    "results = pd.DataFrame(rows, columns=columns)"
   ]
  },
  {
   "cell_type": "markdown",
   "metadata": {},
   "source": [
    "### Tabular Results"
   ]
  },
  {
   "cell_type": "code",
   "execution_count": 20,
   "metadata": {
    "collapsed": false
   },
   "outputs": [
    {
     "data": {
      "text/html": [
       "<div>\n",
       "<table border=\"1\" class=\"dataframe\">\n",
       "  <thead>\n",
       "    <tr style=\"text-align: right;\">\n",
       "      <th></th>\n",
       "      <th></th>\n",
       "      <th>Training Time (s)</th>\n",
       "      <th>Prediction Time (test) (s)</th>\n",
       "      <th>F1 Score (train)</th>\n",
       "      <th>F1 Score (test)</th>\n",
       "    </tr>\n",
       "    <tr>\n",
       "      <th>Classifier</th>\n",
       "      <th>Training Set Size</th>\n",
       "      <th></th>\n",
       "      <th></th>\n",
       "      <th></th>\n",
       "      <th></th>\n",
       "    </tr>\n",
       "  </thead>\n",
       "  <tbody>\n",
       "    <tr>\n",
       "      <th rowspan=\"6\" valign=\"top\">Baseline</th>\n",
       "      <th>50</th>\n",
       "      <td>0.000083</td>\n",
       "      <td>0.000072</td>\n",
       "      <td>0.809524</td>\n",
       "      <td>0.805031</td>\n",
       "    </tr>\n",
       "    <tr>\n",
       "      <th>100</th>\n",
       "      <td>0.000072</td>\n",
       "      <td>0.000057</td>\n",
       "      <td>0.802395</td>\n",
       "      <td>0.805031</td>\n",
       "    </tr>\n",
       "    <tr>\n",
       "      <th>150</th>\n",
       "      <td>0.000061</td>\n",
       "      <td>0.000052</td>\n",
       "      <td>0.804781</td>\n",
       "      <td>0.805031</td>\n",
       "    </tr>\n",
       "    <tr>\n",
       "      <th>200</th>\n",
       "      <td>0.000054</td>\n",
       "      <td>0.000047</td>\n",
       "      <td>0.802395</td>\n",
       "      <td>0.805031</td>\n",
       "    </tr>\n",
       "    <tr>\n",
       "      <th>250</th>\n",
       "      <td>0.000052</td>\n",
       "      <td>0.000045</td>\n",
       "      <td>0.803828</td>\n",
       "      <td>0.805031</td>\n",
       "    </tr>\n",
       "    <tr>\n",
       "      <th>300</th>\n",
       "      <td>0.000067</td>\n",
       "      <td>0.000062</td>\n",
       "      <td>0.802395</td>\n",
       "      <td>0.805031</td>\n",
       "    </tr>\n",
       "    <tr>\n",
       "      <th rowspan=\"6\" valign=\"top\">Gaussian Naive Bayes</th>\n",
       "      <th>50</th>\n",
       "      <td>0.000394</td>\n",
       "      <td>0.000148</td>\n",
       "      <td>0.607514</td>\n",
       "      <td>0.530100</td>\n",
       "    </tr>\n",
       "    <tr>\n",
       "      <th>100</th>\n",
       "      <td>0.000498</td>\n",
       "      <td>0.000181</td>\n",
       "      <td>0.752973</td>\n",
       "      <td>0.671023</td>\n",
       "    </tr>\n",
       "    <tr>\n",
       "      <th>150</th>\n",
       "      <td>0.000420</td>\n",
       "      <td>0.000141</td>\n",
       "      <td>0.672018</td>\n",
       "      <td>0.591859</td>\n",
       "    </tr>\n",
       "    <tr>\n",
       "      <th>200</th>\n",
       "      <td>0.000368</td>\n",
       "      <td>0.000140</td>\n",
       "      <td>0.805085</td>\n",
       "      <td>0.759767</td>\n",
       "    </tr>\n",
       "    <tr>\n",
       "      <th>250</th>\n",
       "      <td>0.000420</td>\n",
       "      <td>0.000164</td>\n",
       "      <td>0.808968</td>\n",
       "      <td>0.774666</td>\n",
       "    </tr>\n",
       "    <tr>\n",
       "      <th>300</th>\n",
       "      <td>0.000633</td>\n",
       "      <td>0.000204</td>\n",
       "      <td>0.802427</td>\n",
       "      <td>0.763054</td>\n",
       "    </tr>\n",
       "    <tr>\n",
       "      <th rowspan=\"6\" valign=\"top\">Logistic Regression</th>\n",
       "      <th>50</th>\n",
       "      <td>0.000757</td>\n",
       "      <td>0.000084</td>\n",
       "      <td>0.935100</td>\n",
       "      <td>0.738661</td>\n",
       "    </tr>\n",
       "    <tr>\n",
       "      <th>100</th>\n",
       "      <td>0.001316</td>\n",
       "      <td>0.000079</td>\n",
       "      <td>0.885654</td>\n",
       "      <td>0.759047</td>\n",
       "    </tr>\n",
       "    <tr>\n",
       "      <th>150</th>\n",
       "      <td>0.001782</td>\n",
       "      <td>0.000095</td>\n",
       "      <td>0.865806</td>\n",
       "      <td>0.746564</td>\n",
       "    </tr>\n",
       "    <tr>\n",
       "      <th>200</th>\n",
       "      <td>0.002440</td>\n",
       "      <td>0.000067</td>\n",
       "      <td>0.845430</td>\n",
       "      <td>0.777966</td>\n",
       "    </tr>\n",
       "    <tr>\n",
       "      <th>250</th>\n",
       "      <td>0.002447</td>\n",
       "      <td>0.000064</td>\n",
       "      <td>0.842339</td>\n",
       "      <td>0.781607</td>\n",
       "    </tr>\n",
       "    <tr>\n",
       "      <th>300</th>\n",
       "      <td>0.003046</td>\n",
       "      <td>0.000065</td>\n",
       "      <td>0.830400</td>\n",
       "      <td>0.796915</td>\n",
       "    </tr>\n",
       "    <tr>\n",
       "      <th rowspan=\"6\" valign=\"top\">SVM</th>\n",
       "      <th>50</th>\n",
       "      <td>0.000437</td>\n",
       "      <td>0.000398</td>\n",
       "      <td>0.869014</td>\n",
       "      <td>0.801160</td>\n",
       "    </tr>\n",
       "    <tr>\n",
       "      <th>100</th>\n",
       "      <td>0.001032</td>\n",
       "      <td>0.000718</td>\n",
       "      <td>0.875415</td>\n",
       "      <td>0.807897</td>\n",
       "    </tr>\n",
       "    <tr>\n",
       "      <th>150</th>\n",
       "      <td>0.002015</td>\n",
       "      <td>0.000944</td>\n",
       "      <td>0.876066</td>\n",
       "      <td>0.799531</td>\n",
       "    </tr>\n",
       "    <tr>\n",
       "      <th>200</th>\n",
       "      <td>0.004048</td>\n",
       "      <td>0.001368</td>\n",
       "      <td>0.870650</td>\n",
       "      <td>0.808629</td>\n",
       "    </tr>\n",
       "    <tr>\n",
       "      <th>250</th>\n",
       "      <td>0.005103</td>\n",
       "      <td>0.001497</td>\n",
       "      <td>0.876099</td>\n",
       "      <td>0.811064</td>\n",
       "    </tr>\n",
       "    <tr>\n",
       "      <th>300</th>\n",
       "      <td>0.006852</td>\n",
       "      <td>0.001718</td>\n",
       "      <td>0.867702</td>\n",
       "      <td>0.813223</td>\n",
       "    </tr>\n",
       "  </tbody>\n",
       "</table>\n",
       "</div>"
      ],
      "text/plain": [
       "                                        Training Time (s)  \\\n",
       "Classifier           Training Set Size                      \n",
       "Baseline             50                          0.000083   \n",
       "                     100                         0.000072   \n",
       "                     150                         0.000061   \n",
       "                     200                         0.000054   \n",
       "                     250                         0.000052   \n",
       "                     300                         0.000067   \n",
       "Gaussian Naive Bayes 50                          0.000394   \n",
       "                     100                         0.000498   \n",
       "                     150                         0.000420   \n",
       "                     200                         0.000368   \n",
       "                     250                         0.000420   \n",
       "                     300                         0.000633   \n",
       "Logistic Regression  50                          0.000757   \n",
       "                     100                         0.001316   \n",
       "                     150                         0.001782   \n",
       "                     200                         0.002440   \n",
       "                     250                         0.002447   \n",
       "                     300                         0.003046   \n",
       "SVM                  50                          0.000437   \n",
       "                     100                         0.001032   \n",
       "                     150                         0.002015   \n",
       "                     200                         0.004048   \n",
       "                     250                         0.005103   \n",
       "                     300                         0.006852   \n",
       "\n",
       "                                        Prediction Time (test) (s)  \\\n",
       "Classifier           Training Set Size                               \n",
       "Baseline             50                                   0.000072   \n",
       "                     100                                  0.000057   \n",
       "                     150                                  0.000052   \n",
       "                     200                                  0.000047   \n",
       "                     250                                  0.000045   \n",
       "                     300                                  0.000062   \n",
       "Gaussian Naive Bayes 50                                   0.000148   \n",
       "                     100                                  0.000181   \n",
       "                     150                                  0.000141   \n",
       "                     200                                  0.000140   \n",
       "                     250                                  0.000164   \n",
       "                     300                                  0.000204   \n",
       "Logistic Regression  50                                   0.000084   \n",
       "                     100                                  0.000079   \n",
       "                     150                                  0.000095   \n",
       "                     200                                  0.000067   \n",
       "                     250                                  0.000064   \n",
       "                     300                                  0.000065   \n",
       "SVM                  50                                   0.000398   \n",
       "                     100                                  0.000718   \n",
       "                     150                                  0.000944   \n",
       "                     200                                  0.001368   \n",
       "                     250                                  0.001497   \n",
       "                     300                                  0.001718   \n",
       "\n",
       "                                        F1 Score (train)  F1 Score (test)  \n",
       "Classifier           Training Set Size                                     \n",
       "Baseline             50                         0.809524         0.805031  \n",
       "                     100                        0.802395         0.805031  \n",
       "                     150                        0.804781         0.805031  \n",
       "                     200                        0.802395         0.805031  \n",
       "                     250                        0.803828         0.805031  \n",
       "                     300                        0.802395         0.805031  \n",
       "Gaussian Naive Bayes 50                         0.607514         0.530100  \n",
       "                     100                        0.752973         0.671023  \n",
       "                     150                        0.672018         0.591859  \n",
       "                     200                        0.805085         0.759767  \n",
       "                     250                        0.808968         0.774666  \n",
       "                     300                        0.802427         0.763054  \n",
       "Logistic Regression  50                         0.935100         0.738661  \n",
       "                     100                        0.885654         0.759047  \n",
       "                     150                        0.865806         0.746564  \n",
       "                     200                        0.845430         0.777966  \n",
       "                     250                        0.842339         0.781607  \n",
       "                     300                        0.830400         0.796915  \n",
       "SVM                  50                         0.869014         0.801160  \n",
       "                     100                        0.875415         0.807897  \n",
       "                     150                        0.876066         0.799531  \n",
       "                     200                        0.870650         0.808629  \n",
       "                     250                        0.876099         0.811064  \n",
       "                     300                        0.867702         0.813223  "
      ]
     },
     "execution_count": 20,
     "metadata": {},
     "output_type": "execute_result"
    }
   ],
   "source": [
    "# each classifier and training set size has 10 rows of results - \n",
    "# can group them and show the average\n",
    "results_grouped = results.groupby(['Classifier','Training Set Size']).mean()\n",
    "results_grouped"
   ]
  },
  {
   "cell_type": "markdown",
   "metadata": {},
   "source": [
    "### Learning Curves"
   ]
  },
  {
   "cell_type": "code",
   "execution_count": 21,
   "metadata": {
    "collapsed": false
   },
   "outputs": [],
   "source": [
    "# show learning curves for the different classifiers\n",
    "def plotLearningCurves(results):\n",
    "    \"show learning curves for the different classifiers\"\n",
    "    results_grouped = results.groupby(['Classifier','Training Set Size']).mean()\n",
    "    clfnames = results_grouped.index.levels[0].values\n",
    "    num_trains = results_grouped.index.levels[1].values\n",
    "    iplot = 1\n",
    "    plt.figure(figsize=(7,5))\n",
    "    for clfname in clfnames:\n",
    "        clfdata = results_grouped.ix[clfname]\n",
    "        xs = num_trains\n",
    "        f1_train = clfdata['F1 Score (train)']\n",
    "        f1_test = clfdata['F1 Score (test)']\n",
    "        plt.subplot(2,2,iplot)\n",
    "        #plt.figure(figsize=(2,2))\n",
    "        plt.title(clfname, weight='bold')\n",
    "        plt.plot(xs, f1_train, 'o-')\n",
    "        plt.plot(xs, f1_test, 'o-')\n",
    "        plt.ylim(0.5,1.0)\n",
    "        plt.xlabel('Training Set Size')\n",
    "        plt.ylabel('F1 Score')\n",
    "        iplot += 1\n",
    "    plt.tight_layout()\n",
    "    print 'Blue = Training Score, Green = Test Score'"
   ]
  },
  {
   "cell_type": "code",
   "execution_count": 22,
   "metadata": {
    "collapsed": false
   },
   "outputs": [
    {
     "name": "stdout",
     "output_type": "stream",
     "text": [
      "Blue = Training Score, Green = Test Score\n"
     ]
    },
    {
     "data": {
      "image/png": "[encoded data removed]",
      "text/plain": [
       "<matplotlib.figure.Figure at 0x13dafc18>"
      ]
     },
     "metadata": {},
     "output_type": "display_data"
    }
   ],
   "source": [
    "plotLearningCurves(results)"
   ]
  },
  {
   "cell_type": "code",
   "execution_count": 23,
   "metadata": {
    "collapsed": true
   },
   "outputs": [],
   "source": [
    "# q. why the odd shape for gnb training curve? shouldn't it have a high score at first? \n",
    "\n",
    "# depending on the random state used, these might look slightly different - \n",
    "# but typically they seem to have already gotten as good as they will get, \n",
    "# with a bit of a gap between the training and test curves, indicating a \n",
    "# slight degree of overfitting. "
   ]
  },
  {
   "cell_type": "markdown",
   "metadata": {},
   "source": [
    "### Average results"
   ]
  },
  {
   "cell_type": "code",
   "execution_count": 24,
   "metadata": {
    "collapsed": false
   },
   "outputs": [
    {
     "data": {
      "text/html": [
       "<div>\n",
       "<table border=\"1\" class=\"dataframe\">\n",
       "  <thead>\n",
       "    <tr style=\"text-align: right;\">\n",
       "      <th></th>\n",
       "      <th>Training Set Size</th>\n",
       "      <th>Training Time (s)</th>\n",
       "      <th>Prediction Time (test) (s)</th>\n",
       "      <th>F1 Score (train)</th>\n",
       "      <th>F1 Score (test)</th>\n",
       "    </tr>\n",
       "    <tr>\n",
       "      <th>Classifier</th>\n",
       "      <th></th>\n",
       "      <th></th>\n",
       "      <th></th>\n",
       "      <th></th>\n",
       "      <th></th>\n",
       "    </tr>\n",
       "  </thead>\n",
       "  <tbody>\n",
       "    <tr>\n",
       "      <th>SVM</th>\n",
       "      <td>300</td>\n",
       "      <td>0.006852</td>\n",
       "      <td>0.001718</td>\n",
       "      <td>0.867702</td>\n",
       "      <td>0.813223</td>\n",
       "    </tr>\n",
       "    <tr>\n",
       "      <th>Baseline</th>\n",
       "      <td>300</td>\n",
       "      <td>0.000067</td>\n",
       "      <td>0.000062</td>\n",
       "      <td>0.802395</td>\n",
       "      <td>0.805031</td>\n",
       "    </tr>\n",
       "    <tr>\n",
       "      <th>Logistic Regression</th>\n",
       "      <td>300</td>\n",
       "      <td>0.003046</td>\n",
       "      <td>0.000065</td>\n",
       "      <td>0.830400</td>\n",
       "      <td>0.796915</td>\n",
       "    </tr>\n",
       "    <tr>\n",
       "      <th>Gaussian Naive Bayes</th>\n",
       "      <td>300</td>\n",
       "      <td>0.000633</td>\n",
       "      <td>0.000204</td>\n",
       "      <td>0.802427</td>\n",
       "      <td>0.763054</td>\n",
       "    </tr>\n",
       "  </tbody>\n",
       "</table>\n",
       "</div>"
      ],
      "text/plain": [
       "                      Training Set Size  Training Time (s)  \\\n",
       "Classifier                                                   \n",
       "SVM                                 300           0.006852   \n",
       "Baseline                            300           0.000067   \n",
       "Logistic Regression                 300           0.003046   \n",
       "Gaussian Naive Bayes                300           0.000633   \n",
       "\n",
       "                      Prediction Time (test) (s)  F1 Score (train)  \\\n",
       "Classifier                                                           \n",
       "SVM                                     0.001718          0.867702   \n",
       "Baseline                                0.000062          0.802395   \n",
       "Logistic Regression                     0.000065          0.830400   \n",
       "Gaussian Naive Bayes                    0.000204          0.802427   \n",
       "\n",
       "                      F1 Score (test)  \n",
       "Classifier                             \n",
       "SVM                          0.813223  \n",
       "Baseline                     0.805031  \n",
       "Logistic Regression          0.796915  \n",
       "Gaussian Naive Bayes         0.763054  "
      ]
     },
     "execution_count": 24,
     "metadata": {},
     "output_type": "execute_result"
    }
   ],
   "source": [
    "# show averages for each classifier for the max training set size, sorted by f1 test score\n",
    "results_avg = results[results['Training Set Size']==300].groupby('Classifier').mean()\n",
    "#results_avg.sort_values(by='F1 Score (test)', ascending=False) # newer version\n",
    "results_avg.sort('F1 Score (test)', ascending=False)"
   ]
  },
  {
   "cell_type": "code",
   "execution_count": 25,
   "metadata": {
    "collapsed": true
   },
   "outputs": [],
   "source": [
    "# note that depending on the random state, the baseline classifier does \n",
    "# as good as or better than the other classifiers! (i.e. just by assuming everyone will pass)\n",
    "# so maybe F1 isn't the best measure to use - let's look at some others..."
   ]
  },
  {
   "cell_type": "code",
   "execution_count": 26,
   "metadata": {
    "collapsed": true
   },
   "outputs": [],
   "source": [
    "# save result for end\n",
    "#untuned_f1_train = results_avg.ix['Logistic Regression']['F1 Score (train)']"
   ]
  },
  {
   "cell_type": "markdown",
   "metadata": {
    "collapsed": true
   },
   "source": [
    "## More metrics"
   ]
  },
  {
   "cell_type": "code",
   "execution_count": 27,
   "metadata": {
    "collapsed": false
   },
   "outputs": [
    {
     "name": "stderr",
     "output_type": "stream",
     "text": [
      "c:\\anaconda\\lib\\site-packages\\sklearn\\metrics\\classification.py:958: UndefinedMetricWarning: F-score is ill-defined and being set to 0.0 in labels with no predicted samples.\n",
      "  'precision', 'predicted', average, warn_for)\n"
     ]
    }
   ],
   "source": [
    "# try some other metrics for the different classifiers\n",
    "columns = ['Classifier','Accuracy','Precision','Recall','FN','FP','F1 Train','F1','F1 Weighted','MCC']\n",
    "rows = []\n",
    "num_trains = [300] # just use the largest training set\n",
    "num_test = 95\n",
    "num_trials = 10\n",
    "for classifier_name, clf in classifiers:\n",
    "    for num_train in num_trains:\n",
    "        random_state = (seed+1) * num_train # each classifier will get the same sequence of random states\n",
    "        # v0.18\n",
    "        #sss = StratifiedShuffleSplit(n_splits=num_trials, train_size=num_train, test_size=num_test, random_state=random_state)\n",
    "        #for train_index, test_index in sss.split(X_all, y_all):\n",
    "        # v0.16\n",
    "        sss = StratifiedShuffleSplit(y_all, n_iter=num_trials, train_size=num_train, test_size=num_test, random_state=random_state)\n",
    "        for train_index, test_index in sss:\n",
    "            X_train_subset, X_test_subset = X_all.values[train_index,:], X_all.values[test_index,:]\n",
    "            y_train_subset, y_test_subset = y_all.values[train_index], y_all.values[test_index]\n",
    "\n",
    "            # train classifier and predict labels\n",
    "            clf.fit(X_train_subset, y_train_subset)\n",
    "            labels_predict = clf.predict(X_test_subset)\n",
    "            labels_actual = y_test_subset\n",
    "\n",
    "            # get metrics\n",
    "            accuracy    = metrics.accuracy_score(labels_actual, labels_predict)\n",
    "            precision   = metrics.precision_score(labels_actual, labels_predict)\n",
    "            recall      = metrics.recall_score(labels_actual, labels_predict)\n",
    "            f1_train    = metrics.f1_score(y_train_subset, clf.predict(X_train_subset)) # get f1 score on training data\n",
    "            f1          = metrics.f1_score(labels_actual, labels_predict)\n",
    "            f1_weighted = metrics.f1_score(labels_actual, labels_predict, average='weighted', pos_label=None) # v0.16 needs the pos_label=None\n",
    "            mcc         = metrics.matthews_corrcoef(labels_actual, labels_predict)\n",
    "            cm          = metrics.confusion_matrix(labels_actual, labels_predict)\n",
    "            tn, fp, fn, tp = cm.ravel()\n",
    "\n",
    "            # add to table\n",
    "            row = [classifier_name, accuracy, precision, recall, fn, fp, f1_train, f1, f1_weighted, mcc]\n",
    "            rows.append(row)\n",
    "\n",
    "# make pandas table\n",
    "results2 = pd.DataFrame(rows, columns=columns)"
   ]
  },
  {
   "cell_type": "code",
   "execution_count": 28,
   "metadata": {
    "collapsed": false,
    "scrolled": true
   },
   "outputs": [
    {
     "name": "stdout",
     "output_type": "stream",
     "text": [
      "Classifiers sorted by MCC\n"
     ]
    },
    {
     "data": {
      "text/html": [
       "<div>\n",
       "<table border=\"1\" class=\"dataframe\">\n",
       "  <thead>\n",
       "    <tr style=\"text-align: right;\">\n",
       "      <th></th>\n",
       "      <th>Accuracy</th>\n",
       "      <th>Precision</th>\n",
       "      <th>Recall</th>\n",
       "      <th>FN</th>\n",
       "      <th>FP</th>\n",
       "      <th>F1 Train</th>\n",
       "      <th>F1</th>\n",
       "      <th>F1 Weighted</th>\n",
       "      <th>MCC</th>\n",
       "    </tr>\n",
       "    <tr>\n",
       "      <th>Classifier</th>\n",
       "      <th></th>\n",
       "      <th></th>\n",
       "      <th></th>\n",
       "      <th></th>\n",
       "      <th></th>\n",
       "      <th></th>\n",
       "      <th></th>\n",
       "      <th></th>\n",
       "      <th></th>\n",
       "    </tr>\n",
       "  </thead>\n",
       "  <tbody>\n",
       "    <tr>\n",
       "      <th>Logistic Regression</th>\n",
       "      <td>0.702105</td>\n",
       "      <td>0.736678</td>\n",
       "      <td>0.868750</td>\n",
       "      <td>8.4</td>\n",
       "      <td>19.9</td>\n",
       "      <td>0.830400</td>\n",
       "      <td>0.796915</td>\n",
       "      <td>0.679860</td>\n",
       "      <td>0.265179</td>\n",
       "    </tr>\n",
       "    <tr>\n",
       "      <th>SVM</th>\n",
       "      <td>0.703158</td>\n",
       "      <td>0.706020</td>\n",
       "      <td>0.959375</td>\n",
       "      <td>2.6</td>\n",
       "      <td>25.6</td>\n",
       "      <td>0.867702</td>\n",
       "      <td>0.813223</td>\n",
       "      <td>0.636739</td>\n",
       "      <td>0.225441</td>\n",
       "    </tr>\n",
       "    <tr>\n",
       "      <th>Gaussian Naive Bayes</th>\n",
       "      <td>0.667368</td>\n",
       "      <td>0.733123</td>\n",
       "      <td>0.796875</td>\n",
       "      <td>13.0</td>\n",
       "      <td>18.6</td>\n",
       "      <td>0.802427</td>\n",
       "      <td>0.763054</td>\n",
       "      <td>0.657025</td>\n",
       "      <td>0.209734</td>\n",
       "    </tr>\n",
       "    <tr>\n",
       "      <th>Baseline</th>\n",
       "      <td>0.673684</td>\n",
       "      <td>0.673684</td>\n",
       "      <td>1.000000</td>\n",
       "      <td>0.0</td>\n",
       "      <td>31.0</td>\n",
       "      <td>0.802395</td>\n",
       "      <td>0.805031</td>\n",
       "      <td>0.542337</td>\n",
       "      <td>0.000000</td>\n",
       "    </tr>\n",
       "  </tbody>\n",
       "</table>\n",
       "</div>"
      ],
      "text/plain": [
       "                      Accuracy  Precision    Recall    FN    FP  F1 Train  \\\n",
       "Classifier                                                                  \n",
       "Logistic Regression   0.702105   0.736678  0.868750   8.4  19.9  0.830400   \n",
       "SVM                   0.703158   0.706020  0.959375   2.6  25.6  0.867702   \n",
       "Gaussian Naive Bayes  0.667368   0.733123  0.796875  13.0  18.6  0.802427   \n",
       "Baseline              0.673684   0.673684  1.000000   0.0  31.0  0.802395   \n",
       "\n",
       "                            F1  F1 Weighted       MCC  \n",
       "Classifier                                             \n",
       "Logistic Regression   0.796915     0.679860  0.265179  \n",
       "SVM                   0.813223     0.636739  0.225441  \n",
       "Gaussian Naive Bayes  0.763054     0.657025  0.209734  \n",
       "Baseline              0.805031     0.542337  0.000000  "
      ]
     },
     "execution_count": 28,
     "metadata": {},
     "output_type": "execute_result"
    }
   ],
   "source": [
    "# show metrics\n",
    "metric = 'MCC'\n",
    "print 'Classifiers sorted by '+metric\n",
    "results_grouped = results2.groupby('Classifier').mean()\n",
    "#results_grouped.sort_values(by=metric, ascending=False) # new pandas version\n",
    "results_grouped.sort(metric, ascending=False)"
   ]
  },
  {
   "cell_type": "markdown",
   "metadata": {},
   "source": [
    "Note that the Baseline classifier is now at the bottom where it should be, so maybe MCC or F1 weighted is a better way of measuring the performance of the classifiers?\n",
    "\n",
    "**F1** by itself measures how accurate it is with the positive results, while \n",
    "\n",
    "**F1 weighted** gives a weighted average of both positive and negative labels.\n",
    "\n",
    "**MCC** is **Matthews' Correlation Coefficient** - it includes all four numbers of the confusion matrix, so might be a better measure of all-around performance (0.0 indicates random guessing, which is appropriate for the Baseline classifier)."
   ]
  },
  {
   "cell_type": "code",
   "execution_count": 29,
   "metadata": {
    "collapsed": false
   },
   "outputs": [],
   "source": [
    "# save results for end\n",
    "final_columns = list(columns)\n",
    "final_columns[0] = 'Model' \n",
    "final_rows = []\n",
    "row = ['Untuned']\n",
    "row.extend(list(results_grouped.ix['Logistic Regression']))\n",
    "final_rows.append(row)\n",
    "final_table = pd.DataFrame(final_rows, columns = final_columns)"
   ]
  },
  {
   "cell_type": "markdown",
   "metadata": {},
   "source": [
    "### Confusion Matrices"
   ]
  },
  {
   "cell_type": "code",
   "execution_count": 30,
   "metadata": {
    "collapsed": false
   },
   "outputs": [
    {
     "name": "stdout",
     "output_type": "stream",
     "text": [
      "Baseline\n",
      "[[ 0 31]\n",
      " [ 0 64]]\n",
      "Gaussian Naive Bayes\n",
      "[[13 18]\n",
      " [16 48]]\n",
      "Logistic Regression\n",
      "[[11 20]\n",
      " [10 54]]\n",
      "SVM\n",
      "[[ 6 25]\n",
      " [ 3 61]]\n"
     ]
    }
   ],
   "source": [
    "# let's look at some of the actual confusion matrices also\n",
    "cms = {}\n",
    "for clfname, clf in classifiers:\n",
    "    print clfname\n",
    "    # note: we just trained these classifiers in the previous step\n",
    "    labels_predict = clf.predict(X_test_subset)\n",
    "    labels_actual = y_test_subset\n",
    "    cm = metrics.confusion_matrix(labels_actual, labels_predict)\n",
    "    print cm\n",
    "    cms[clfname] = cm\n",
    "untuned_cm = cms['Logistic Regression'] # save for end"
   ]
  },
  {
   "cell_type": "code",
   "execution_count": 31,
   "metadata": {
    "collapsed": true
   },
   "outputs": [],
   "source": [
    "# so what do these mean? \n",
    "# they're different distributions of the 95 test students. \n",
    "\n",
    "# note that the Baseline classifier is very biased to the right - ie it assumes everyone will pass,\n",
    "# and that the SVM is biased in a similar way. GNB and LR are more balanced. \n",
    "\n",
    "# what should we be more concerned about, false positives or false negatives? \n",
    "# a false positive would mean we thought they would pass, but they failed. \n",
    "# a false negative would mean we thought they would fail, but they passed. \n",
    "\n",
    "# so the false positives seem more costly - would let someone slip through the cracks. \n",
    "# otoh, a false negative would mean we spent extra resources where they weren't needed.\n",
    "\n",
    "# another advantage of logistic regression is that you can change the threshold\n",
    "# between the passing and failing prediction, which just defaults to 0.5. \n",
    "# this would let you adjust the false positive and false negative rates. "
   ]
  },
  {
   "cell_type": "markdown",
   "metadata": {},
   "source": [
    "## Feature contributions"
   ]
  },
  {
   "cell_type": "code",
   "execution_count": 32,
   "metadata": {
    "collapsed": false
   },
   "outputs": [
    {
     "data": {
      "text/html": [
       "<div>\n",
       "<table border=\"1\" class=\"dataframe\">\n",
       "  <thead>\n",
       "    <tr style=\"text-align: right;\">\n",
       "      <th></th>\n",
       "      <th>Feature</th>\n",
       "      <th>Weight</th>\n",
       "    </tr>\n",
       "  </thead>\n",
       "  <tbody>\n",
       "    <tr>\n",
       "      <th>9</th>\n",
       "      <td>Mjob_health</td>\n",
       "      <td>0.539242</td>\n",
       "    </tr>\n",
       "    <tr>\n",
       "      <th>21</th>\n",
       "      <td>reason_reputation</td>\n",
       "      <td>0.535532</td>\n",
       "    </tr>\n",
       "    <tr>\n",
       "      <th>36</th>\n",
       "      <td>famrel</td>\n",
       "      <td>0.516630</td>\n",
       "    </tr>\n",
       "    <tr>\n",
       "      <th>0</th>\n",
       "      <td>school</td>\n",
       "      <td>0.506024</td>\n",
       "    </tr>\n",
       "    <tr>\n",
       "      <th>17</th>\n",
       "      <td>Fjob_teacher</td>\n",
       "      <td>0.466119</td>\n",
       "    </tr>\n",
       "    <tr>\n",
       "      <th>15</th>\n",
       "      <td>Fjob_other</td>\n",
       "      <td>0.435533</td>\n",
       "    </tr>\n",
       "    <tr>\n",
       "      <th>4</th>\n",
       "      <td>famsize</td>\n",
       "      <td>0.406526</td>\n",
       "    </tr>\n",
       "    <tr>\n",
       "      <th>22</th>\n",
       "      <td>guardian_father</td>\n",
       "      <td>0.394784</td>\n",
       "    </tr>\n",
       "    <tr>\n",
       "      <th>3</th>\n",
       "      <td>address</td>\n",
       "      <td>0.341428</td>\n",
       "    </tr>\n",
       "    <tr>\n",
       "      <th>23</th>\n",
       "      <td>guardian_mother</td>\n",
       "      <td>0.309096</td>\n",
       "    </tr>\n",
       "  </tbody>\n",
       "</table>\n",
       "</div>"
      ],
      "text/plain": [
       "              Feature    Weight\n",
       "9         Mjob_health  0.539242\n",
       "21  reason_reputation  0.535532\n",
       "36             famrel  0.516630\n",
       "0              school  0.506024\n",
       "17       Fjob_teacher  0.466119\n",
       "15         Fjob_other  0.435533\n",
       "4             famsize  0.406526\n",
       "22    guardian_father  0.394784\n",
       "3             address  0.341428\n",
       "23    guardian_mother  0.309096"
      ]
     },
     "execution_count": 32,
     "metadata": {},
     "output_type": "execute_result"
    }
   ],
   "source": [
    "# so which features contribute the most to the pass/fail outcome? \n",
    "\n",
    "# get the logistic regression classifier\n",
    "assert classifiers[2][0]=='Logistic Regression'\n",
    "clf = classifiers[2][1]\n",
    "\n",
    "# get list of features and weights\n",
    "columns_all = list(X_all.columns)\n",
    "weights = pd.DataFrame(zip(columns_all, clf.coef_[0]), columns=['Feature','Weight'])\n",
    "#weights = weights.sort_values(by='Weight',ascending=False) # v0.18\n",
    "weights = weights.sort('Weight',ascending=False) # v.016\n",
    "\n",
    "# keep track of interesting features\n",
    "cols = []\n",
    "cols.extend(list(weights.head(10)['Feature']))\n",
    "cols.extend(list(weights.tail(10)['Feature']))\n",
    "cols.append('Probability')\n",
    "\n",
    "# show most positive correlations\n",
    "weights.head(10)"
   ]
  },
  {
   "cell_type": "code",
   "execution_count": 33,
   "metadata": {
    "collapsed": true
   },
   "outputs": [],
   "source": [
    "# higher = wanting to continue on to college - makes sense\n",
    "# Walc = weekend alcohol - positively correlated with passing?\n",
    "# paid = ?\n",
    "# Medu, Mjob_at_home"
   ]
  },
  {
   "cell_type": "code",
   "execution_count": 34,
   "metadata": {
    "collapsed": false
   },
   "outputs": [
    {
     "data": {
      "text/html": [
       "<div>\n",
       "<table border=\"1\" class=\"dataframe\">\n",
       "  <thead>\n",
       "    <tr style=\"text-align: right;\">\n",
       "      <th></th>\n",
       "      <th>Feature</th>\n",
       "      <th>Weight</th>\n",
       "    </tr>\n",
       "  </thead>\n",
       "  <tbody>\n",
       "    <tr>\n",
       "      <th>28</th>\n",
       "      <td>schoolsup</td>\n",
       "      <td>-0.861017</td>\n",
       "    </tr>\n",
       "    <tr>\n",
       "      <th>29</th>\n",
       "      <td>famsup</td>\n",
       "      <td>-0.665447</td>\n",
       "    </tr>\n",
       "    <tr>\n",
       "      <th>27</th>\n",
       "      <td>failures</td>\n",
       "      <td>-0.621074</td>\n",
       "    </tr>\n",
       "    <tr>\n",
       "      <th>38</th>\n",
       "      <td>goout</td>\n",
       "      <td>-0.566909</td>\n",
       "    </tr>\n",
       "    <tr>\n",
       "      <th>35</th>\n",
       "      <td>romantic</td>\n",
       "      <td>-0.384097</td>\n",
       "    </tr>\n",
       "    <tr>\n",
       "      <th>18</th>\n",
       "      <td>reason_course</td>\n",
       "      <td>-0.311441</td>\n",
       "    </tr>\n",
       "    <tr>\n",
       "      <th>32</th>\n",
       "      <td>nursery</td>\n",
       "      <td>-0.310862</td>\n",
       "    </tr>\n",
       "    <tr>\n",
       "      <th>12</th>\n",
       "      <td>Mjob_teacher</td>\n",
       "      <td>-0.289411</td>\n",
       "    </tr>\n",
       "    <tr>\n",
       "      <th>13</th>\n",
       "      <td>Fjob_at_home</td>\n",
       "      <td>-0.234134</td>\n",
       "    </tr>\n",
       "    <tr>\n",
       "      <th>10</th>\n",
       "      <td>Mjob_other</td>\n",
       "      <td>-0.185960</td>\n",
       "    </tr>\n",
       "  </tbody>\n",
       "</table>\n",
       "</div>"
      ],
      "text/plain": [
       "          Feature    Weight\n",
       "28      schoolsup -0.861017\n",
       "29         famsup -0.665447\n",
       "27       failures -0.621074\n",
       "38          goout -0.566909\n",
       "35       romantic -0.384097\n",
       "18  reason_course -0.311441\n",
       "32        nursery -0.310862\n",
       "12   Mjob_teacher -0.289411\n",
       "13   Fjob_at_home -0.234134\n",
       "10     Mjob_other -0.185960"
      ]
     },
     "execution_count": 34,
     "metadata": {},
     "output_type": "execute_result"
    }
   ],
   "source": [
    "# show most negative correlations\n",
    "#weights.tail(10).sort_values(by='Weight')\n",
    "weights.tail(10).sort('Weight')"
   ]
  },
  {
   "cell_type": "code",
   "execution_count": 35,
   "metadata": {
    "collapsed": true
   },
   "outputs": [],
   "source": [
    "# failures = previous failures\n",
    "# schoolsup = getting extra support\n",
    "# Mjob_teacher = mother is a teacher?\n",
    "# goout = go out on weekend\n",
    "# Fjob_at_home = father unemployed"
   ]
  },
  {
   "cell_type": "markdown",
   "metadata": {},
   "source": [
    "## Sorting the students"
   ]
  },
  {
   "cell_type": "code",
   "execution_count": 36,
   "metadata": {
    "collapsed": false
   },
   "outputs": [],
   "source": [
    "# let's look at the students, sorting by probability of passing\n",
    "\n",
    "probs = X_all.copy()\n",
    "pcol = clf.predict_proba(X_all)[:,1]\n",
    "probs['Probability'] = pcol\n",
    "#probs = probs.sort_values(by='Probability', ascending=False)\n",
    "probs = probs.sort('Probability', ascending=False)"
   ]
  },
  {
   "cell_type": "code",
   "execution_count": 37,
   "metadata": {
    "collapsed": false
   },
   "outputs": [
    {
     "data": {
      "text/html": [
       "<div>\n",
       "<table border=\"1\" class=\"dataframe\">\n",
       "  <thead>\n",
       "    <tr style=\"text-align: right;\">\n",
       "      <th></th>\n",
       "      <th>Mjob_health</th>\n",
       "      <th>reason_reputation</th>\n",
       "      <th>famrel</th>\n",
       "      <th>school</th>\n",
       "      <th>Fjob_teacher</th>\n",
       "      <th>Fjob_other</th>\n",
       "      <th>famsize</th>\n",
       "      <th>guardian_father</th>\n",
       "      <th>address</th>\n",
       "      <th>guardian_mother</th>\n",
       "      <th>...</th>\n",
       "      <th>Fjob_at_home</th>\n",
       "      <th>Mjob_teacher</th>\n",
       "      <th>nursery</th>\n",
       "      <th>reason_course</th>\n",
       "      <th>romantic</th>\n",
       "      <th>goout</th>\n",
       "      <th>failures</th>\n",
       "      <th>famsup</th>\n",
       "      <th>schoolsup</th>\n",
       "      <th>Probability</th>\n",
       "    </tr>\n",
       "  </thead>\n",
       "  <tbody>\n",
       "    <tr>\n",
       "      <th>393</th>\n",
       "      <td>0</td>\n",
       "      <td>0</td>\n",
       "      <td>4</td>\n",
       "      <td>1</td>\n",
       "      <td>0</td>\n",
       "      <td>1</td>\n",
       "      <td>1</td>\n",
       "      <td>0</td>\n",
       "      <td>0</td>\n",
       "      <td>1</td>\n",
       "      <td>...</td>\n",
       "      <td>0</td>\n",
       "      <td>0</td>\n",
       "      <td>0</td>\n",
       "      <td>1</td>\n",
       "      <td>0</td>\n",
       "      <td>1</td>\n",
       "      <td>0</td>\n",
       "      <td>0</td>\n",
       "      <td>0</td>\n",
       "      <td>0.981065</td>\n",
       "    </tr>\n",
       "    <tr>\n",
       "      <th>30</th>\n",
       "      <td>1</td>\n",
       "      <td>0</td>\n",
       "      <td>5</td>\n",
       "      <td>0</td>\n",
       "      <td>0</td>\n",
       "      <td>0</td>\n",
       "      <td>0</td>\n",
       "      <td>0</td>\n",
       "      <td>1</td>\n",
       "      <td>1</td>\n",
       "      <td>...</td>\n",
       "      <td>0</td>\n",
       "      <td>0</td>\n",
       "      <td>0</td>\n",
       "      <td>0</td>\n",
       "      <td>0</td>\n",
       "      <td>2</td>\n",
       "      <td>0</td>\n",
       "      <td>1</td>\n",
       "      <td>0</td>\n",
       "      <td>0.977346</td>\n",
       "    </tr>\n",
       "    <tr>\n",
       "      <th>20</th>\n",
       "      <td>0</td>\n",
       "      <td>1</td>\n",
       "      <td>4</td>\n",
       "      <td>0</td>\n",
       "      <td>0</td>\n",
       "      <td>1</td>\n",
       "      <td>0</td>\n",
       "      <td>0</td>\n",
       "      <td>1</td>\n",
       "      <td>1</td>\n",
       "      <td>...</td>\n",
       "      <td>0</td>\n",
       "      <td>1</td>\n",
       "      <td>1</td>\n",
       "      <td>0</td>\n",
       "      <td>0</td>\n",
       "      <td>1</td>\n",
       "      <td>0</td>\n",
       "      <td>0</td>\n",
       "      <td>0</td>\n",
       "      <td>0.973293</td>\n",
       "    </tr>\n",
       "    <tr>\n",
       "      <th>236</th>\n",
       "      <td>0</td>\n",
       "      <td>0</td>\n",
       "      <td>4</td>\n",
       "      <td>0</td>\n",
       "      <td>0</td>\n",
       "      <td>1</td>\n",
       "      <td>1</td>\n",
       "      <td>1</td>\n",
       "      <td>1</td>\n",
       "      <td>0</td>\n",
       "      <td>...</td>\n",
       "      <td>0</td>\n",
       "      <td>0</td>\n",
       "      <td>0</td>\n",
       "      <td>0</td>\n",
       "      <td>1</td>\n",
       "      <td>2</td>\n",
       "      <td>0</td>\n",
       "      <td>0</td>\n",
       "      <td>0</td>\n",
       "      <td>0.970402</td>\n",
       "    </tr>\n",
       "    <tr>\n",
       "      <th>5</th>\n",
       "      <td>0</td>\n",
       "      <td>1</td>\n",
       "      <td>5</td>\n",
       "      <td>0</td>\n",
       "      <td>0</td>\n",
       "      <td>1</td>\n",
       "      <td>1</td>\n",
       "      <td>0</td>\n",
       "      <td>1</td>\n",
       "      <td>1</td>\n",
       "      <td>...</td>\n",
       "      <td>0</td>\n",
       "      <td>0</td>\n",
       "      <td>1</td>\n",
       "      <td>0</td>\n",
       "      <td>0</td>\n",
       "      <td>2</td>\n",
       "      <td>0</td>\n",
       "      <td>1</td>\n",
       "      <td>0</td>\n",
       "      <td>0.966883</td>\n",
       "    </tr>\n",
       "  </tbody>\n",
       "</table>\n",
       "<p>5 rows × 21 columns</p>\n",
       "</div>"
      ],
      "text/plain": [
       "     Mjob_health  reason_reputation  famrel  school  Fjob_teacher  Fjob_other  \\\n",
       "393            0                  0       4       1             0           1   \n",
       "30             1                  0       5       0             0           0   \n",
       "20             0                  1       4       0             0           1   \n",
       "236            0                  0       4       0             0           1   \n",
       "5              0                  1       5       0             0           1   \n",
       "\n",
       "     famsize  guardian_father  address  guardian_mother     ...       \\\n",
       "393        1                0        0                1     ...        \n",
       "30         0                0        1                1     ...        \n",
       "20         0                0        1                1     ...        \n",
       "236        1                1        1                0     ...        \n",
       "5          1                0        1                1     ...        \n",
       "\n",
       "     Fjob_at_home  Mjob_teacher  nursery  reason_course  romantic  goout  \\\n",
       "393             0             0        0              1         0      1   \n",
       "30              0             0        0              0         0      2   \n",
       "20              0             1        1              0         0      1   \n",
       "236             0             0        0              0         1      2   \n",
       "5               0             0        1              0         0      2   \n",
       "\n",
       "     failures  famsup  schoolsup  Probability  \n",
       "393         0       0          0     0.981065  \n",
       "30          0       1          0     0.977346  \n",
       "20          0       0          0     0.973293  \n",
       "236         0       0          0     0.970402  \n",
       "5           0       1          0     0.966883  \n",
       "\n",
       "[5 rows x 21 columns]"
      ]
     },
     "execution_count": 37,
     "metadata": {},
     "output_type": "execute_result"
    }
   ],
   "source": [
    "# most likely to pass\n",
    "probs[cols].head()"
   ]
  },
  {
   "cell_type": "code",
   "execution_count": 38,
   "metadata": {
    "collapsed": true
   },
   "outputs": [],
   "source": [
    "# note that none have failed, and they don't go out very much"
   ]
  },
  {
   "cell_type": "code",
   "execution_count": 39,
   "metadata": {
    "collapsed": false
   },
   "outputs": [
    {
     "data": {
      "text/html": [
       "<div>\n",
       "<table border=\"1\" class=\"dataframe\">\n",
       "  <thead>\n",
       "    <tr style=\"text-align: right;\">\n",
       "      <th></th>\n",
       "      <th>Mjob_health</th>\n",
       "      <th>reason_reputation</th>\n",
       "      <th>famrel</th>\n",
       "      <th>school</th>\n",
       "      <th>Fjob_teacher</th>\n",
       "      <th>Fjob_other</th>\n",
       "      <th>famsize</th>\n",
       "      <th>guardian_father</th>\n",
       "      <th>address</th>\n",
       "      <th>guardian_mother</th>\n",
       "      <th>...</th>\n",
       "      <th>Fjob_at_home</th>\n",
       "      <th>Mjob_teacher</th>\n",
       "      <th>nursery</th>\n",
       "      <th>reason_course</th>\n",
       "      <th>romantic</th>\n",
       "      <th>goout</th>\n",
       "      <th>failures</th>\n",
       "      <th>famsup</th>\n",
       "      <th>schoolsup</th>\n",
       "      <th>Probability</th>\n",
       "    </tr>\n",
       "  </thead>\n",
       "  <tbody>\n",
       "    <tr>\n",
       "      <th>150</th>\n",
       "      <td>0</td>\n",
       "      <td>0</td>\n",
       "      <td>2</td>\n",
       "      <td>0</td>\n",
       "      <td>0</td>\n",
       "      <td>1</td>\n",
       "      <td>1</td>\n",
       "      <td>0</td>\n",
       "      <td>1</td>\n",
       "      <td>1</td>\n",
       "      <td>...</td>\n",
       "      <td>0</td>\n",
       "      <td>0</td>\n",
       "      <td>1</td>\n",
       "      <td>1</td>\n",
       "      <td>1</td>\n",
       "      <td>5</td>\n",
       "      <td>3</td>\n",
       "      <td>0</td>\n",
       "      <td>0</td>\n",
       "      <td>0.044397</td>\n",
       "    </tr>\n",
       "    <tr>\n",
       "      <th>153</th>\n",
       "      <td>0</td>\n",
       "      <td>0</td>\n",
       "      <td>4</td>\n",
       "      <td>0</td>\n",
       "      <td>0</td>\n",
       "      <td>0</td>\n",
       "      <td>0</td>\n",
       "      <td>0</td>\n",
       "      <td>1</td>\n",
       "      <td>1</td>\n",
       "      <td>...</td>\n",
       "      <td>1</td>\n",
       "      <td>0</td>\n",
       "      <td>1</td>\n",
       "      <td>0</td>\n",
       "      <td>1</td>\n",
       "      <td>4</td>\n",
       "      <td>3</td>\n",
       "      <td>1</td>\n",
       "      <td>0</td>\n",
       "      <td>0.051426</td>\n",
       "    </tr>\n",
       "    <tr>\n",
       "      <th>270</th>\n",
       "      <td>0</td>\n",
       "      <td>0</td>\n",
       "      <td>4</td>\n",
       "      <td>0</td>\n",
       "      <td>0</td>\n",
       "      <td>0</td>\n",
       "      <td>0</td>\n",
       "      <td>0</td>\n",
       "      <td>1</td>\n",
       "      <td>0</td>\n",
       "      <td>...</td>\n",
       "      <td>0</td>\n",
       "      <td>0</td>\n",
       "      <td>1</td>\n",
       "      <td>0</td>\n",
       "      <td>0</td>\n",
       "      <td>5</td>\n",
       "      <td>2</td>\n",
       "      <td>1</td>\n",
       "      <td>0</td>\n",
       "      <td>0.063538</td>\n",
       "    </tr>\n",
       "    <tr>\n",
       "      <th>206</th>\n",
       "      <td>0</td>\n",
       "      <td>0</td>\n",
       "      <td>2</td>\n",
       "      <td>0</td>\n",
       "      <td>0</td>\n",
       "      <td>1</td>\n",
       "      <td>0</td>\n",
       "      <td>0</td>\n",
       "      <td>1</td>\n",
       "      <td>1</td>\n",
       "      <td>...</td>\n",
       "      <td>0</td>\n",
       "      <td>0</td>\n",
       "      <td>1</td>\n",
       "      <td>1</td>\n",
       "      <td>0</td>\n",
       "      <td>3</td>\n",
       "      <td>3</td>\n",
       "      <td>1</td>\n",
       "      <td>0</td>\n",
       "      <td>0.077207</td>\n",
       "    </tr>\n",
       "    <tr>\n",
       "      <th>127</th>\n",
       "      <td>0</td>\n",
       "      <td>0</td>\n",
       "      <td>3</td>\n",
       "      <td>0</td>\n",
       "      <td>0</td>\n",
       "      <td>1</td>\n",
       "      <td>0</td>\n",
       "      <td>0</td>\n",
       "      <td>1</td>\n",
       "      <td>0</td>\n",
       "      <td>...</td>\n",
       "      <td>0</td>\n",
       "      <td>0</td>\n",
       "      <td>0</td>\n",
       "      <td>1</td>\n",
       "      <td>0</td>\n",
       "      <td>2</td>\n",
       "      <td>3</td>\n",
       "      <td>1</td>\n",
       "      <td>0</td>\n",
       "      <td>0.077725</td>\n",
       "    </tr>\n",
       "  </tbody>\n",
       "</table>\n",
       "<p>5 rows × 21 columns</p>\n",
       "</div>"
      ],
      "text/plain": [
       "     Mjob_health  reason_reputation  famrel  school  Fjob_teacher  Fjob_other  \\\n",
       "150            0                  0       2       0             0           1   \n",
       "153            0                  0       4       0             0           0   \n",
       "270            0                  0       4       0             0           0   \n",
       "206            0                  0       2       0             0           1   \n",
       "127            0                  0       3       0             0           1   \n",
       "\n",
       "     famsize  guardian_father  address  guardian_mother     ...       \\\n",
       "150        1                0        1                1     ...        \n",
       "153        0                0        1                1     ...        \n",
       "270        0                0        1                0     ...        \n",
       "206        0                0        1                1     ...        \n",
       "127        0                0        1                0     ...        \n",
       "\n",
       "     Fjob_at_home  Mjob_teacher  nursery  reason_course  romantic  goout  \\\n",
       "150             0             0        1              1         1      5   \n",
       "153             1             0        1              0         1      4   \n",
       "270             0             0        1              0         0      5   \n",
       "206             0             0        1              1         0      3   \n",
       "127             0             0        0              1         0      2   \n",
       "\n",
       "     failures  famsup  schoolsup  Probability  \n",
       "150         3       0          0     0.044397  \n",
       "153         3       1          0     0.051426  \n",
       "270         2       1          0     0.063538  \n",
       "206         3       1          0     0.077207  \n",
       "127         3       1          0     0.077725  \n",
       "\n",
       "[5 rows x 21 columns]"
      ]
     },
     "execution_count": 39,
     "metadata": {},
     "output_type": "execute_result"
    }
   ],
   "source": [
    "# most likely to fail\n",
    "#probs[cols].tail().sort_values(by='Probability')\n",
    "probs[cols].tail().sort('Probability')"
   ]
  },
  {
   "cell_type": "code",
   "execution_count": 40,
   "metadata": {
    "collapsed": true
   },
   "outputs": [],
   "source": [
    "# note the high number of previous failures, and they spend more time out"
   ]
  },
  {
   "cell_type": "markdown",
   "metadata": {},
   "source": [
    "## Choosing the Best Model\n",
    "In this final section, you will choose from the three supervised learning models the *best* model to use on the student data. You will then perform a grid search optimization for the model over the entire training set (`X_train` and `y_train`) by tuning at least one parameter to improve upon the untuned model's F<sub>1</sub> score. "
   ]
  },
  {
   "cell_type": "markdown",
   "metadata": {},
   "source": [
    "### Question 3 - Choosing the Best Model\n",
    "*Based on the experiments you performed earlier, in one to two paragraphs, explain to the board of supervisors what single model you chose as the best model. Which model is generally the most appropriate based on the available data, limited resources, cost, and performance?*"
   ]
  },
  {
   "cell_type": "markdown",
   "metadata": {},
   "source": [
    "**Answer: **\n",
    "\n",
    "Based on the problem requirements and the experiments performed, **Logistic Regression** would be a good algorithm to use for this problem.\n",
    "\n",
    "Logistic Regression ranked highest in terms of the scoring metrics used (MCC and F1 weighted), and the computing resources it needs are relatively low. It has the added benefit of returning the likelihood of each student passing, which would allow the schools to choose which students to focus on more carefully. The results are also more easily interpretable in terms of which features contribute the most to student performance, so could give clues as to how best to intervene with borderline students. \n",
    "\n",
    "Logistic Regression took 4 times as long to train as Gaussian Naive Bayes, but SVM took 13 times as long. It was slightly faster than Gaussian Naive Bayes at predicting outcomes though, and both were about 13x faster than the SVM. Computing power is cheap compared to teaching resources though, so having a better performing algorithm would presumably be worth the added cost (assuming that computing costs were extremely high for some reason)."
   ]
  },
  {
   "cell_type": "markdown",
   "metadata": {},
   "source": [
    "**Additional Notes**\n",
    "\n",
    "I wound up using **Matthews Correlation Coefficient (MCC)** to evaluate the classifiers, because the classes are unbalanced in this dataset (i.e. there are more students passing than failing), and using Accuracy or F1 score for just the positive cases could give misleading results. For example, the Baseline classifier of just assuming all students would pass outperformed several classifiers in additional testing when evaluated by the F1 score. \n",
    "\n",
    "Another better score than F1 is **F1 weighted**, which averages the F1 score for each class, instead of just testing the positive class. \n",
    "\n",
    "But the Matthews Correlation Coefficient takes all four values of the confusion matrix into account, so is a more balanced measure. http://scikit-learn.org/stable/modules/generated/sklearn.metrics.matthews_corrcoef.html"
   ]
  },
  {
   "cell_type": "markdown",
   "metadata": {},
   "source": [
    "From scikit-learn - \n",
    "\n",
    "> The Matthews correlation coefficient is used in machine learning as a measure of the quality of binary (two-class) classifications. It takes into account true and false positives and negatives and is generally regarded as a balanced measure which can be used even if the classes are of very different sizes. The MCC is in essence a correlation coefficient value between -1 and +1. A coefficient of +1 represents a perfect prediction, 0 an average random prediction and -1 an inverse prediction. \n",
    "\n",
    "http://scikit-learn.org/stable/modules/generated/sklearn.metrics.matthews_corrcoef.html\n"
   ]
  },
  {
   "cell_type": "markdown",
   "metadata": {},
   "source": [
    "Also posted here - https://discussions.udacity.com/t/using-matthews-correlation-coefficient-instead-of-f1/196357"
   ]
  },
  {
   "cell_type": "markdown",
   "metadata": {},
   "source": [
    "### Question 4 - Model in Layman's Terms\n",
    "\n",
    "*In one to two paragraphs, explain to the board of directors in layman's terms how the final model chosen is supposed to work. Be sure that you are describing the major qualities of the model, such as how the model is trained and how the model makes a prediction. Avoid using advanced mathematical or technical jargon, such as describing equations or discussing the algorithm implementation.*"
   ]
  },
  {
   "cell_type": "markdown",
   "metadata": {},
   "source": [
    "**Answer: **\n",
    "\n",
    "The program works by predicting the probability of each student passing, then identifying those students whose chances are less than 50% as ones who might fail. It must first be trained on existing data - it looks at all the variables collected about past students and whether they passed or failed, and builds a model than can predict the outcome for future students. \n",
    "\n",
    "Once the model is built you can reuse it as needed - you simply feed in the same variables for the new students and it will output the probability of them passing. You could then sort the students by the odds of their passing and choose which ones you want to focus extra resources on, in order to reach a 95% graduation rate. You could update it with new data every year or just continue to use it as is. "
   ]
  },
  {
   "cell_type": "markdown",
   "metadata": {},
   "source": [
    "### Implementation: Model Tuning\n",
    "\n",
    "Fine tune the chosen model. Use grid search (`GridSearchCV`) with at least one important parameter tuned with at least 3 different values. You will need to use the entire training set for this. In the code cell below, you will need to implement the following:\n",
    "- Import [`sklearn.grid_search.GridSearchCV`](http://scikit-learn.org/0.17/modules/generated/sklearn.grid_search.GridSearchCV.html) and [`sklearn.metrics.make_scorer`](http://scikit-learn.org/stable/modules/generated/sklearn.metrics.make_scorer.html).\n",
    "- Create a dictionary of parameters you wish to tune for the chosen model.\n",
    " - Example: `parameters = {'parameter' : [list of values]}`.\n",
    "- Initialize the classifier you've chosen and store it in `clf`.\n",
    "- Create the F<sub>1</sub> scoring function using `make_scorer` and store it in `f1_scorer`.\n",
    " - Set the `pos_label` parameter to the correct value!\n",
    "- Perform grid search on the classifier `clf` using `f1_scorer` as the scoring method, and store it in `grid_obj`.\n",
    "- Fit the grid search object to the training data (`X_train`, `y_train`), and store it in `grid_obj`."
   ]
  },
  {
   "cell_type": "code",
   "execution_count": 41,
   "metadata": {
    "collapsed": false
   },
   "outputs": [],
   "source": [
    "# TODO: Import 'GridSearchCV' and 'make_scorer'\n",
    "from sklearn.grid_search import GridSearchCV"
   ]
  },
  {
   "cell_type": "markdown",
   "metadata": {},
   "source": [
    "see   \n",
    "http://scikit-learn.org/stable/modules/generated/sklearn.grid_search.GridSearchCV.html  \n",
    "http://scikit-learn.org/stable/modules/generated/sklearn.linear_model.LogisticRegression.html  \n"
   ]
  },
  {
   "cell_type": "code",
   "execution_count": 42,
   "metadata": {
    "collapsed": false
   },
   "outputs": [],
   "source": [
    "# TODO: Create the parameters list you wish to tune\n",
    "\n",
    "# logistic regression parameters\n",
    "# C             the inverse of the regularization strength, \n",
    "#               so larger values could lead to more complex models and overfitting\n",
    "# class_weight  balanced = splits are balanced to the proportion of positive/negative labels\n",
    "# penalty       l1 = can ignore irrelevant features and save on computation, \n",
    "#                    ie can shrink some coefficients to zero, performing feature selection\n",
    "#               l2 = default - shrinks all coefficients but eliminates none\n",
    "#               see https://www.quora.com/What-is-the-difference-between-L1-and-L2-regularization\n",
    "\n",
    "parameters = [    \n",
    "  {'solver':       ['liblinear'],            # default is liblinear\n",
    "   'random_state': [seed],                   # default is None\n",
    "   'C':            [1e-5,1e-4,1e-3,1e-2,1e-1,1e0,1e1], # default is 1\n",
    "   'class_weight': [None,'auto'],            # default is None\n",
    "   'penalty':      ['l1','l2'],              # default is l2\n",
    "  },    \n",
    "]"
   ]
  },
  {
   "cell_type": "code",
   "execution_count": 61,
   "metadata": {
    "collapsed": false
   },
   "outputs": [
    {
     "name": "stdout",
     "output_type": "stream",
     "text": [
      "Scorer: f1_score{}\n"
     ]
    }
   ],
   "source": [
    "# TODO: Make a scoring function using 'make_scorer' \n",
    "\n",
    "scorer = metrics.make_scorer(metrics.f1_score)\n",
    "#scorer = metrics.make_scorer(metrics.f1_score, average='weighted', pos_label=None) # v0.16 needs pos_label=None\n",
    "#scorer = metrics.make_scorer(metrics.matthews_corrcoef) # doesn't seem to work - gives same results as f1\n",
    "\n",
    "scorer_desc = scorer._score_func.__name__ + str(scorer._kwargs) # eg 'f1_score'\n",
    "print 'Scorer:',scorer_desc"
   ]
  },
  {
   "cell_type": "markdown",
   "metadata": {},
   "source": [
    "**Reviewer suggestion:** Can use StratifiedShuffleSplit here - pass to GridSearchCV as the cv parameter"
   ]
  },
  {
   "cell_type": "code",
   "execution_count": 70,
   "metadata": {
    "collapsed": false
   },
   "outputs": [],
   "source": [
    "# TODO: Initialize the classifier\n",
    "clf = LogisticRegression(random_state=seed)\n",
    "\n",
    "# get 10 stratified training and test sets\n",
    "sss = StratifiedShuffleSplit(y_train, n_iter=10, test_size=0.24, random_state=seed)\n",
    "\n",
    "# TODO: Perform grid search on the classifier optimizing against our scorer.\n",
    "# by default cv=3 folds\n",
    "grid = GridSearchCV(estimator=clf, param_grid=parameters, scoring=scorer, cv=sss)\n",
    "\n",
    "# can also pass string for scoring fn\n",
    "# see http://scikit-learn.org/stable/modules/model_evaluation.html#scoring-parameter\n",
    "#grid = GridSearchCV(estimator=clf, param_grid=parameters, scoring='accuracy', cv=sss)\n",
    "#grid = GridSearchCV(estimator=clf, param_grid=parameters, scoring='f1', cv=sss)\n",
    "#grid = GridSearchCV(estimator=clf, param_grid=parameters, scoring='f1_weighted', cv=sss)\n",
    "#grid.scoring"
   ]
  },
  {
   "cell_type": "code",
   "execution_count": 63,
   "metadata": {
    "collapsed": false
   },
   "outputs": [],
   "source": [
    "# TODO: Fit the grid search object to the training data and find the optimal parameters\n",
    "grid.fit(X_train, y_train)\n",
    "\n",
    "# Get the estimator\n",
    "clf = grid.best_estimator_"
   ]
  },
  {
   "cell_type": "code",
   "execution_count": 64,
   "metadata": {
    "collapsed": false
   },
   "outputs": [
    {
     "name": "stdout",
     "output_type": "stream",
     "text": [
      "Classifier parameter space: [{'class_weight': [None, 'auto'], 'penalty': ['l1', 'l2'], 'C': [1e-05, 0.0001, 0.001, 0.01, 0.1, 1.0, 10.0], 'random_state': [1], 'solver': ['liblinear']}]\n",
      "\n",
      "Best parameters: {'penalty': 'l1', 'C': 0.1, 'random_state': 1, 'solver': 'liblinear', 'class_weight': None}\n",
      "\n",
      "Best score: 0.80710855794\n",
      "\n",
      "Classifier: LogisticRegression(C=0.1, class_weight=None, dual=False, fit_intercept=True,\n",
      "          intercept_scaling=1, max_iter=100, multi_class='ovr',\n",
      "          penalty='l1', random_state=1, solver='liblinear', tol=0.0001,\n",
      "          verbose=0)\n"
     ]
    }
   ],
   "source": [
    "# print the best parameters and score\n",
    "print 'Classifier parameter space:',parameters\n",
    "print '\\nBest parameters:',grid.best_params_\n",
    "print '\\nBest score:',grid.best_score_\n",
    "print '\\nClassifier:',clf"
   ]
  },
  {
   "cell_type": "code",
   "execution_count": 65,
   "metadata": {
    "collapsed": true
   },
   "outputs": [],
   "source": [
    "# make predictions on test set\n",
    "y_predict = clf.predict(X_test)\n",
    "\n",
    "# get accuracy, precision, recall\n",
    "accuracy = metrics.accuracy_score(y_test, y_predict)\n",
    "precision = metrics.precision_score(y_test, y_predict)\n",
    "recall = metrics.recall_score(y_test, y_predict)\n",
    "\n",
    "# get f1 scores\n",
    "f1_train, _ = predict_labels(clf, X_train, y_train)\n",
    "f1_test, _  = predict_labels(clf, X_test, y_test)\n",
    "f1_test_weighted, _  = predict_labels(clf, X_test, y_test, 'weighted')\n",
    "\n",
    "# get mcc score\n",
    "mcc  = metrics.matthews_corrcoef(y_test, y_predict)"
   ]
  },
  {
   "cell_type": "code",
   "execution_count": 66,
   "metadata": {
    "collapsed": false
   },
   "outputs": [
    {
     "name": "stdout",
     "output_type": "stream",
     "text": [
      "Untuned\n",
      "[[11 20]\n",
      " [10 54]]\n",
      "\n",
      "Tuned\n",
      "[[ 9 19]\n",
      " [ 2 65]]\n"
     ]
    }
   ],
   "source": [
    "# get confusion matrix\n",
    "tuned_cm = metrics.confusion_matrix(y_test, y_predict)\n",
    "tn, fp, fn, tp = tuned_cm.ravel()\n",
    "\n",
    "print 'Untuned\\n',untuned_cm\n",
    "print '\\nTuned\\n',tuned_cm"
   ]
  },
  {
   "cell_type": "code",
   "execution_count": 67,
   "metadata": {
    "collapsed": false
   },
   "outputs": [],
   "source": [
    "# add tuned results to final table\n",
    "# note: final_columns = ['Model','Accuracy','Precision','Recall','FN','FP','F1 Train','F1','F1 Weighted','MCC']\n",
    "row = ['Tuned',accuracy,precision,recall,fn,fp,f1_train,f1_test,f1_test_weighted,mcc]\n",
    "# any nicer way?\n",
    "# see http://stackoverflow.com/questions/26309962/appending-a-list-or-series-to-a-pandas-dataframe-as-a-row\n",
    "fr = list(final_rows)\n",
    "fr.append(row)\n",
    "final_table = pd.DataFrame(fr, columns = final_columns)"
   ]
  },
  {
   "cell_type": "code",
   "execution_count": 68,
   "metadata": {
    "collapsed": false
   },
   "outputs": [
    {
     "name": "stdout",
     "output_type": "stream",
     "text": [
      "Tuned model has a training F1 score of 0.8128.\n",
      "Tuned model has a testing F1 score of 0.8609.\n"
     ]
    }
   ],
   "source": [
    "print \"Tuned model has a training F1 score of {:.4f}.\".format(f1_train)\n",
    "print \"Tuned model has a testing F1 score of {:.4f}.\".format(f1_test)"
   ]
  },
  {
   "cell_type": "markdown",
   "metadata": {},
   "source": [
    "### Question 5 - Final F<sub>1</sub> Score\n",
    "*What is the final model's F<sub>1</sub> score for training and testing? How does that score compare to the untuned model?*"
   ]
  },
  {
   "cell_type": "code",
   "execution_count": 69,
   "metadata": {
    "collapsed": false
   },
   "outputs": [
    {
     "name": "stdout",
     "output_type": "stream",
     "text": [
      "Model optimized against f1_score{}\n"
     ]
    },
    {
     "data": {
      "text/html": [
       "<div>\n",
       "<table border=\"1\" class=\"dataframe\">\n",
       "  <thead>\n",
       "    <tr style=\"text-align: right;\">\n",
       "      <th></th>\n",
       "      <th>Model</th>\n",
       "      <th>Accuracy</th>\n",
       "      <th>Precision</th>\n",
       "      <th>Recall</th>\n",
       "      <th>FN</th>\n",
       "      <th>FP</th>\n",
       "      <th>F1 Train</th>\n",
       "      <th>F1</th>\n",
       "      <th>F1 Weighted</th>\n",
       "      <th>MCC</th>\n",
       "    </tr>\n",
       "  </thead>\n",
       "  <tbody>\n",
       "    <tr>\n",
       "      <th>0</th>\n",
       "      <td>Untuned</td>\n",
       "      <td>0.702105</td>\n",
       "      <td>0.736678</td>\n",
       "      <td>0.868750</td>\n",
       "      <td>8.4</td>\n",
       "      <td>19.9</td>\n",
       "      <td>0.830400</td>\n",
       "      <td>0.796915</td>\n",
       "      <td>0.679860</td>\n",
       "      <td>0.265179</td>\n",
       "    </tr>\n",
       "    <tr>\n",
       "      <th>1</th>\n",
       "      <td>Tuned</td>\n",
       "      <td>0.778947</td>\n",
       "      <td>0.773810</td>\n",
       "      <td>0.970149</td>\n",
       "      <td>2.0</td>\n",
       "      <td>19.0</td>\n",
       "      <td>0.812766</td>\n",
       "      <td>0.860927</td>\n",
       "      <td>0.743213</td>\n",
       "      <td>0.415465</td>\n",
       "    </tr>\n",
       "  </tbody>\n",
       "</table>\n",
       "</div>"
      ],
      "text/plain": [
       "     Model  Accuracy  Precision    Recall   FN    FP  F1 Train        F1  \\\n",
       "0  Untuned  0.702105   0.736678  0.868750  8.4  19.9  0.830400  0.796915   \n",
       "1    Tuned  0.778947   0.773810  0.970149  2.0  19.0  0.812766  0.860927   \n",
       "\n",
       "   F1 Weighted       MCC  \n",
       "0     0.679860  0.265179  \n",
       "1     0.743213  0.415465  "
      ]
     },
     "execution_count": 69,
     "metadata": {},
     "output_type": "execute_result"
    }
   ],
   "source": [
    "print 'Model optimized against',scorer_desc\n",
    "final_table"
   ]
  },
  {
   "cell_type": "markdown",
   "metadata": {},
   "source": [
    "**Answer: **\n",
    "\n",
    "The table above shows the **untuned** values in the first row and **tuned** values in the second row. \n",
    "\n",
    "The table shows the values optimized against the **F1** score, which improves from 0.80 to 0.86 (the amount varies depending on the random state) - F1 Weighted and MCC improve also. "
   ]
  },
  {
   "cell_type": "markdown",
   "metadata": {},
   "source": [
    "## Conclusion"
   ]
  },
  {
   "cell_type": "markdown",
   "metadata": {},
   "source": [
    "Logistic Regression gives a lot of information about the dataset and seems to make fairly good predictions about the student outcomes - better than the other two classifiers looked at - SVM and Gaussian Naive Bayes. \n",
    "\n",
    "There is much more that could be done with this dataset - feature selection, analyzing precision and recall, determining ROC, AUC, confidence intervals, comparing the different classifiers in more depth, etc. These could also be tied into a cost-benefit analysis of different options, including the cost of extra educational resources, cost of interventions (e.g. encouraging college attendance), long-term cost of a student failing, etc. This could also help identify the best way to get to the graduation rate of 95%. "
   ]
  },
  {
   "cell_type": "markdown",
   "metadata": {},
   "source": [
    "> **Note**: Once you have completed all of the code implementations and successfully answered each question above, you may finalize your work by exporting the iPython Notebook as an HTML document. You can do this by using the menu above and navigating to  \n",
    "**File -> Download as -> HTML (.html)**. Include the finished document along with this notebook as your submission."
   ]
  }
 ],
 "metadata": {
  "anaconda-cloud": {},
  "kernelspec": {
   "display_name": "Python 2",
   "language": "python",
   "name": "python2"
  },
  "language_info": {
   "codemirror_mode": {
    "name": "ipython",
    "version": 2
   },
   "file_extension": ".py",
   "mimetype": "text/x-python",
   "name": "python",
   "nbconvert_exporter": "python",
   "pygments_lexer": "ipython2",
   "version": "2.7.12"
  }
 },
 "nbformat": 4,
 "nbformat_minor": 0
}
